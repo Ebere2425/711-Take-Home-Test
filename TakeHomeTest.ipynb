{
  "nbformat": 4,
  "nbformat_minor": 0,
  "metadata": {
    "colab": {
      "provenance": []
    },
    "kernelspec": {
      "name": "python3",
      "display_name": "Python 3"
    },
    "language_info": {
      "name": "python"
    }
  },
  "cells": [
    {
      "cell_type": "code",
      "execution_count": null,
      "metadata": {
        "id": "GnZnBBN3A9cP"
      },
      "outputs": [],
      "source": [
        "import pandas as pd\n",
        "import numpy as np\n",
        "import matplotlib.pyplot as plt\n",
        "import seaborn as sns"
      ]
    },
    {
      "cell_type": "code",
      "source": [
        "data = pd.read_csv('/content/drive/MyDrive/Colab Notebooks/data_analysis_challenge_data.csv')"
      ],
      "metadata": {
        "id": "IquODHQWBe1p"
      },
      "execution_count": null,
      "outputs": []
    },
    {
      "cell_type": "code",
      "source": [
        "data.head()"
      ],
      "metadata": {
        "colab": {
          "base_uri": "https://localhost:8080/",
          "height": 206
        },
        "id": "E9K7aeJtCZIj",
        "outputId": "79704c59-fa75-4879-9227-bf6362b302fd"
      },
      "execution_count": null,
      "outputs": [
        {
          "output_type": "execute_result",
          "data": {
            "text/plain": [
              "  MONTH STORECODE  DAY BILL_ID  BILL_AMT  QTY  VALUE  PRICE  \\\n",
              "0    M1        N1    4    T375     225.0  1.0  225.0  225.0   \n",
              "1    M1        N1    4    T379      95.0  1.0   95.0   95.0   \n",
              "2    M1        N1    4    T381      10.0  1.0   10.0   10.0   \n",
              "3    M1        N1    4    T382     108.0  1.0  108.0  108.0   \n",
              "4    M1        N1    4    T384      19.0  1.0   19.0   19.0   \n",
              "\n",
              "                       GRP  \n",
              "0     BUTTER MARGR  (4/94)  \n",
              "1  CONFECTIONERY - ECLAIRS  \n",
              "2                CHOCOLATE  \n",
              "3             PACKAGED TEA  \n",
              "4         ALL IODISED SALT  "
            ],
            "text/html": [
              "\n",
              "  <div id=\"df-512387c7-a39c-4dd0-ab69-29685ff11b33\">\n",
              "    <div class=\"colab-df-container\">\n",
              "      <div>\n",
              "<style scoped>\n",
              "    .dataframe tbody tr th:only-of-type {\n",
              "        vertical-align: middle;\n",
              "    }\n",
              "\n",
              "    .dataframe tbody tr th {\n",
              "        vertical-align: top;\n",
              "    }\n",
              "\n",
              "    .dataframe thead th {\n",
              "        text-align: right;\n",
              "    }\n",
              "</style>\n",
              "<table border=\"1\" class=\"dataframe\">\n",
              "  <thead>\n",
              "    <tr style=\"text-align: right;\">\n",
              "      <th></th>\n",
              "      <th>MONTH</th>\n",
              "      <th>STORECODE</th>\n",
              "      <th>DAY</th>\n",
              "      <th>BILL_ID</th>\n",
              "      <th>BILL_AMT</th>\n",
              "      <th>QTY</th>\n",
              "      <th>VALUE</th>\n",
              "      <th>PRICE</th>\n",
              "      <th>GRP</th>\n",
              "    </tr>\n",
              "  </thead>\n",
              "  <tbody>\n",
              "    <tr>\n",
              "      <th>0</th>\n",
              "      <td>M1</td>\n",
              "      <td>N1</td>\n",
              "      <td>4</td>\n",
              "      <td>T375</td>\n",
              "      <td>225.0</td>\n",
              "      <td>1.0</td>\n",
              "      <td>225.0</td>\n",
              "      <td>225.0</td>\n",
              "      <td>BUTTER MARGR  (4/94)</td>\n",
              "    </tr>\n",
              "    <tr>\n",
              "      <th>1</th>\n",
              "      <td>M1</td>\n",
              "      <td>N1</td>\n",
              "      <td>4</td>\n",
              "      <td>T379</td>\n",
              "      <td>95.0</td>\n",
              "      <td>1.0</td>\n",
              "      <td>95.0</td>\n",
              "      <td>95.0</td>\n",
              "      <td>CONFECTIONERY - ECLAIRS</td>\n",
              "    </tr>\n",
              "    <tr>\n",
              "      <th>2</th>\n",
              "      <td>M1</td>\n",
              "      <td>N1</td>\n",
              "      <td>4</td>\n",
              "      <td>T381</td>\n",
              "      <td>10.0</td>\n",
              "      <td>1.0</td>\n",
              "      <td>10.0</td>\n",
              "      <td>10.0</td>\n",
              "      <td>CHOCOLATE</td>\n",
              "    </tr>\n",
              "    <tr>\n",
              "      <th>3</th>\n",
              "      <td>M1</td>\n",
              "      <td>N1</td>\n",
              "      <td>4</td>\n",
              "      <td>T382</td>\n",
              "      <td>108.0</td>\n",
              "      <td>1.0</td>\n",
              "      <td>108.0</td>\n",
              "      <td>108.0</td>\n",
              "      <td>PACKAGED TEA</td>\n",
              "    </tr>\n",
              "    <tr>\n",
              "      <th>4</th>\n",
              "      <td>M1</td>\n",
              "      <td>N1</td>\n",
              "      <td>4</td>\n",
              "      <td>T384</td>\n",
              "      <td>19.0</td>\n",
              "      <td>1.0</td>\n",
              "      <td>19.0</td>\n",
              "      <td>19.0</td>\n",
              "      <td>ALL IODISED SALT</td>\n",
              "    </tr>\n",
              "  </tbody>\n",
              "</table>\n",
              "</div>\n",
              "      <button class=\"colab-df-convert\" onclick=\"convertToInteractive('df-512387c7-a39c-4dd0-ab69-29685ff11b33')\"\n",
              "              title=\"Convert this dataframe to an interactive table.\"\n",
              "              style=\"display:none;\">\n",
              "        \n",
              "  <svg xmlns=\"http://www.w3.org/2000/svg\" height=\"24px\"viewBox=\"0 0 24 24\"\n",
              "       width=\"24px\">\n",
              "    <path d=\"M0 0h24v24H0V0z\" fill=\"none\"/>\n",
              "    <path d=\"M18.56 5.44l.94 2.06.94-2.06 2.06-.94-2.06-.94-.94-2.06-.94 2.06-2.06.94zm-11 1L8.5 8.5l.94-2.06 2.06-.94-2.06-.94L8.5 2.5l-.94 2.06-2.06.94zm10 10l.94 2.06.94-2.06 2.06-.94-2.06-.94-.94-2.06-.94 2.06-2.06.94z\"/><path d=\"M17.41 7.96l-1.37-1.37c-.4-.4-.92-.59-1.43-.59-.52 0-1.04.2-1.43.59L10.3 9.45l-7.72 7.72c-.78.78-.78 2.05 0 2.83L4 21.41c.39.39.9.59 1.41.59.51 0 1.02-.2 1.41-.59l7.78-7.78 2.81-2.81c.8-.78.8-2.07 0-2.86zM5.41 20L4 18.59l7.72-7.72 1.47 1.35L5.41 20z\"/>\n",
              "  </svg>\n",
              "      </button>\n",
              "      \n",
              "  <style>\n",
              "    .colab-df-container {\n",
              "      display:flex;\n",
              "      flex-wrap:wrap;\n",
              "      gap: 12px;\n",
              "    }\n",
              "\n",
              "    .colab-df-convert {\n",
              "      background-color: #E8F0FE;\n",
              "      border: none;\n",
              "      border-radius: 50%;\n",
              "      cursor: pointer;\n",
              "      display: none;\n",
              "      fill: #1967D2;\n",
              "      height: 32px;\n",
              "      padding: 0 0 0 0;\n",
              "      width: 32px;\n",
              "    }\n",
              "\n",
              "    .colab-df-convert:hover {\n",
              "      background-color: #E2EBFA;\n",
              "      box-shadow: 0px 1px 2px rgba(60, 64, 67, 0.3), 0px 1px 3px 1px rgba(60, 64, 67, 0.15);\n",
              "      fill: #174EA6;\n",
              "    }\n",
              "\n",
              "    [theme=dark] .colab-df-convert {\n",
              "      background-color: #3B4455;\n",
              "      fill: #D2E3FC;\n",
              "    }\n",
              "\n",
              "    [theme=dark] .colab-df-convert:hover {\n",
              "      background-color: #434B5C;\n",
              "      box-shadow: 0px 1px 3px 1px rgba(0, 0, 0, 0.15);\n",
              "      filter: drop-shadow(0px 1px 2px rgba(0, 0, 0, 0.3));\n",
              "      fill: #FFFFFF;\n",
              "    }\n",
              "  </style>\n",
              "\n",
              "      <script>\n",
              "        const buttonEl =\n",
              "          document.querySelector('#df-512387c7-a39c-4dd0-ab69-29685ff11b33 button.colab-df-convert');\n",
              "        buttonEl.style.display =\n",
              "          google.colab.kernel.accessAllowed ? 'block' : 'none';\n",
              "\n",
              "        async function convertToInteractive(key) {\n",
              "          const element = document.querySelector('#df-512387c7-a39c-4dd0-ab69-29685ff11b33');\n",
              "          const dataTable =\n",
              "            await google.colab.kernel.invokeFunction('convertToInteractive',\n",
              "                                                     [key], {});\n",
              "          if (!dataTable) return;\n",
              "\n",
              "          const docLinkHtml = 'Like what you see? Visit the ' +\n",
              "            '<a target=\"_blank\" href=https://colab.research.google.com/notebooks/data_table.ipynb>data table notebook</a>'\n",
              "            + ' to learn more about interactive tables.';\n",
              "          element.innerHTML = '';\n",
              "          dataTable['output_type'] = 'display_data';\n",
              "          await google.colab.output.renderOutput(dataTable, element);\n",
              "          const docLink = document.createElement('div');\n",
              "          docLink.innerHTML = docLinkHtml;\n",
              "          element.appendChild(docLink);\n",
              "        }\n",
              "      </script>\n",
              "    </div>\n",
              "  </div>\n",
              "  "
            ]
          },
          "metadata": {},
          "execution_count": 46
        }
      ]
    },
    {
      "cell_type": "markdown",
      "source": [
        "Data Cleaning & Validation \n"
      ],
      "metadata": {
        "id": "8s55Ya7WWPG3"
      }
    },
    {
      "cell_type": "code",
      "source": [
        "data.info"
      ],
      "metadata": {
        "colab": {
          "base_uri": "https://localhost:8080/"
        },
        "id": "QpEPQkoAWSEP",
        "outputId": "42dd76ff-cfb7-46c8-a686-bc975467e78a"
      },
      "execution_count": null,
      "outputs": [
        {
          "output_type": "execute_result",
          "data": {
            "text/plain": [
              "<bound method DataFrame.info of       MONTH STORECODE  DAY BILL_ID  BILL_AMT  QTY  VALUE  PRICE  \\\n",
              "0        M1        N1    4    T375     225.0  1.0  225.0  225.0   \n",
              "1        M1        N1    4    T379      95.0  1.0   95.0   95.0   \n",
              "2        M1        N1    4    T381      10.0  1.0   10.0   10.0   \n",
              "3        M1        N1    4    T382     108.0  1.0  108.0  108.0   \n",
              "4        M1        N1    4    T384      19.0  1.0   19.0   19.0   \n",
              "...     ...       ...  ...     ...       ...  ...    ...    ...   \n",
              "26980    M3       N10   31   T5999      10.0  1.0   10.0   10.0   \n",
              "26981    M3       N10   31   T6007      88.0  1.0   10.0   10.0   \n",
              "26982    M3       N10   31   T6007      88.0  2.0   20.0   10.0   \n",
              "26983    M3       N10   31   T6007      88.0  1.0   58.0   58.0   \n",
              "26984    M3       N10   31   T6013      15.0  1.0   15.0   15.0   \n",
              "\n",
              "                              GRP  \n",
              "0            BUTTER MARGR  (4/94)  \n",
              "1         CONFECTIONERY - ECLAIRS  \n",
              "2                       CHOCOLATE  \n",
              "3                    PACKAGED TEA  \n",
              "4                ALL IODISED SALT  \n",
              "...                           ...  \n",
              "26980  BISCUITS - CORE & NON CORE  \n",
              "26981  BISCUITS - CORE & NON CORE  \n",
              "26982  BISCUITS - CORE & NON CORE  \n",
              "26983            CLEANERS - GLASS  \n",
              "26984  BISCUITS - CORE & NON CORE  \n",
              "\n",
              "[26985 rows x 9 columns]>"
            ]
          },
          "metadata": {},
          "execution_count": 47
        }
      ]
    },
    {
      "cell_type": "code",
      "source": [
        "data.isnull().sum().sum()"
      ],
      "metadata": {
        "colab": {
          "base_uri": "https://localhost:8080/"
        },
        "id": "n3BtF_axXYw-",
        "outputId": "51fe585f-b1d3-42a4-ebfc-e201feaf91b0"
      },
      "execution_count": null,
      "outputs": [
        {
          "output_type": "execute_result",
          "data": {
            "text/plain": [
              "0"
            ]
          },
          "metadata": {},
          "execution_count": 48
        }
      ]
    },
    {
      "cell_type": "markdown",
      "source": [
        "1. Sales By Store "
      ],
      "metadata": {
        "id": "spDOWH6EQJDu"
      }
    },
    {
      "cell_type": "code",
      "source": [
        "salesbystore = pd.pivot_table(data = data, index='STORECODE', columns ='MONTH',values= 'VALUE', aggfunc = 'sum')\n"
      ],
      "metadata": {
        "id": "DSysTJ03By2U"
      },
      "execution_count": null,
      "outputs": []
    },
    {
      "cell_type": "code",
      "source": [
        "plt.style.use('ggplot')\n",
        "\n",
        "ax = salesbystore.plot(stacked=True, kind='bar', figsize=(12, 8), rot='horizontal')\n",
        "\n",
        "# .patches is everything inside of the chart\n",
        "for rect in ax.patches:\n",
        "    # Find where everything is located\n",
        "    height = rect.get_height()\n",
        "    width = rect.get_width()\n",
        "    x = rect.get_x()\n",
        "    y = rect.get_y()\n",
        "    \n",
        "    # The height of the bar is the data value and can be used as the label\n",
        "    label_text = f'{height:.2f}'  # f'{height:.2f}' to format decimal values\n",
        "    \n",
        "    # ax.text(x, y, text)\n",
        "    label_x = x + width / 2\n",
        "    label_y = y + height / 2\n",
        "\n",
        "    # plot only when height is greater than specified value\n",
        "    if height > 0:\n",
        "        ax.text(label_x, label_y, label_text, ha='center', va='center', fontsize=8)\n",
        "    \n",
        "ax.legend(bbox_to_anchor=(1.05, 1), loc='upper left', borderaxespad=0.)    \n",
        "ax.set_ylabel(\"Sales\", fontsize=18)\n",
        "ax.set_xlabel(\"Store Code\", fontsize=18)\n",
        "plt.show()"
      ],
      "metadata": {
        "colab": {
          "base_uri": "https://localhost:8080/",
          "height": 505
        },
        "id": "o9kduAD8MTgU",
        "outputId": "6872614f-2977-47d7-9542-6f5d288fecc3"
      },
      "execution_count": null,
      "outputs": [
        {
          "output_type": "display_data",
          "data": {
            "text/plain": [
              "<Figure size 864x576 with 1 Axes>"
            ],
            "image/png": "[encoded data removed]"
          },
          "metadata": {}
        }
      ]
    },
    {
      "cell_type": "markdown",
      "source": [
        "2. Sales By Category "
      ],
      "metadata": {
        "id": "m7jASApP0SvT"
      }
    },
    {
      "cell_type": "code",
      "source": [
        "List_stores = list(data['STORECODE'])\n",
        "List_stores = list(dict.fromkeys(List_stores))\n",
        "salesbycategory = data.groupby(['STORECODE','GRP'])['QTY'].sum()\n",
        "salesbycategory = salesbycategory.to_frame().reset_index()"
      ],
      "metadata": {
        "id": "aDvmYvmIi85Y"
      },
      "execution_count": null,
      "outputs": []
    },
    {
      "cell_type": "code",
      "source": [
        "import plotly.graph_objects as go\n",
        "\n",
        "#extract color palette, the palette can be changed\n",
        "pal = list(sns.color_palette(palette='viridis', n_colors=len(List_stores)).as_hex())\n",
        "\n",
        "fig = go.Figure(\n",
        "    layout = go.Layout(\n",
        "        title=\"Sales By Category\",\n",
        "        yaxis_title=\"Sales\",\n",
        "        xaxis_title=\"Category\", ) \n",
        "\n",
        ")\n",
        "for d,p in zip(List_stores, pal):\n",
        "    fig.add_trace(go.Bar(x = salesbycategory[salesbycategory['STORECODE']==d]['GRP'],\n",
        "                             y = salesbycategory[salesbycategory['STORECODE']==d]['QTY'],\n",
        "                             name = d,\n",
        "                             #line_color = p, \n",
        "                             #fill=None\n",
        "                         ))   #tozeroy \n",
        "\n",
        "\n",
        "\n",
        "fig.show()"
      ],
      "metadata": {
        "colab": {
          "base_uri": "https://localhost:8080/",
          "height": 542
        },
        "id": "RNysoEipuvcz",
        "outputId": "fbdb280d-b5dc-48eb-d60a-6e6b5d658b92"
      },
      "execution_count": null,
      "outputs": [
        {
          "output_type": "display_data",
          "data": {
            "text/html": [
              "<html>\n",
              "<head><meta charset=\"utf-8\" /></head>\n",
              "<body>\n",
              "    <div>            <script src=\"https://cdnjs.cloudflare.com/ajax/libs/mathjax/2.7.5/MathJax.js?config=TeX-AMS-MML_SVG\"></script><script type=\"text/javascript\">if (window.MathJax) {MathJax.Hub.Config({SVG: {font: \"STIX-Web\"}});}</script>                <script type=\"text/javascript\">window.PlotlyConfig = {MathJaxConfig: 'local'};</script>\n",
              "        <script src=\"https://cdn.plot.ly/plotly-2.8.3.min.js\"></script>                <div id=\"6a71b19e-2149-4d84-bf85-67426743c24d\" class=\"plotly-graph-div\" style=\"height:525px; width:100%;\"></div>            <script type=\"text/javascript\">                                    window.PLOTLYENV=window.PLOTLYENV || {};                                    if (document.getElementById(\"6a71b19e-2149-4d84-bf85-67426743c24d\")) {                    Plotly.newPlot(                        \"6a71b19e-2149-4d84-bf85-67426743c24d\",                        [{\"name\":\"N1\",\"x\":[\"AGARBATTI & DHOOPBATTI\",\"ALL AIR FRESHNERS(01/03)\",\"ALL IODISED SALT\",\"ANTACIDS\",\"ANTISEPTIC LIQUIDS (4/97)\",\"BABY FOODS\",\"BATTERIES\",\"BEVERAGES\",\"BISCUITS - CORE & NON CORE\",\"BLUES\",\"BREAKFAST CEREALS\",\"BUTTER MARGR  (4/94)\",\"CHEESE        (4/94)\",\"CHOCOLATE\",\"CLEANERS - FLOOR\",\"CLEANERS - GLASS\",\"CLEANERS - TOILET\",\"CLEANERS - UTENSIL\",\"COCONUT OIL PKTYP (08/02)\",\"COFFEE\",\"CONFECTIONERY - COUGH LOZENGE\",\"CONFECTIONERY - ECLAIRS\",\"CONFECTIONERY - LOLLIPOP/FMR\",\"CONFECTIONERY - TOFFEE/HBC\",\"CONFECTIONERY - TOTAL GUM\",\"DETERGENT CAKES/BARS\",\"DIAPERS       (8/93)\",\"FRAGRANCE-PERFUM,DEO & COLOGNE\",\"GLUCOSE POWDER & TABLET\",\"HAIR CONDITIONERS\",\"HAIR DYES     (1/76)\",\"HAIR OILS PKTP(8/02)\",\"HAIR REMOVER\",\"HOME INSECTICIDES CTG  (8/93)\",\"JAMS/JELLY/MARMALADES-CTG\",\"KETCHUPS/SAUCES\",\"LIQUID TOILET SOAPS  (8/93)\",\"MILK POWDERS\",\"MOSQUITO REPELLANTS CTG (8/93)\",\"NON-REFINED OILS   (9/93)\",\"OTHER SCOURERS\",\"PACKAGED ATTA (1/95)\",\"PACKAGED PURE GHEE\",\"PACKAGED RICE (1/95)\",\"PACKAGED TEA\",\"PALMOLEIN REFINED OIL (01/03)\",\"PRE-POST WASH PRODUCTS\",\"PRICKLY HEAT POWDER\",\"READY TO EAT\",\"REFINED EDIBLE OILS-ALL PACKS\",\"RUBEFACIENT\",\"SAFETY RAZOR BLADES\",\"SALTY SNACKS (2/97)\",\"SANITARY NAPKINS\",\"SCOURING PADS/SCRUBS\",\"SHAMPOO - BY SEGMENTS\",\"SKIN CREAMS\",\"SOAP CAKES/BARS\",\"SPICES (03/04)\",\"SQSH CRDLS & SFT DRNK-CONVERTD\",\"TALCUM POWDERS\",\"TOILET SOAPS (04/00)\",\"TOOTH BRUSH   (7/93)\",\"TOOTH PASTES\",\"TWIN BLADES\",\"VANASPATI CONS PACK (8/94)\",\"VERMICELLI & NOODLE\",\"WASHING POWDERS/LIQUIDS\"],\"y\":[15.0,3.0,56.0,24.0,1.0,1.0,57.0,67.0,1768.0,3.0,162.0,72.0,40.0,825.0,11.0,2.0,5.0,42.0,17.0,4.0,27.0,6.0,55.0,366.0,87.0,89.0,134.0,1005.0,6.0,18.0,15.0,19.0,1.0,17.0,23.0,79.0,10.0,9.0,6.0,4.0,1.0,23.0,31.0,3.0,171.0,3.0,107.0,15.0,57.0,32108.0,3.0,1.0,572.0,12.0,1.0,67.0,30.0,3.0,143.0,94.0,7.0,106.0,8.0,51.0,5.0,1019.0,518.0,209.0],\"type\":\"bar\"},{\"name\":\"N2\",\"x\":[\"AGARBATTI & DHOOPBATTI\",\"ALL AIR FRESHNERS(01/03)\",\"ALL IODISED SALT\",\"ANTACIDS\",\"ANTISEPTIC LIQUIDS (4/97)\",\"BATTERIES\",\"BEVERAGES\",\"BISCUITS - CORE & NON CORE\",\"BLUES\",\"BREAKFAST CEREALS\",\"BUTTER MARGR  (4/94)\",\"CHEESE        (4/94)\",\"CHOCOLATE\",\"CLEANERS - FLOOR\",\"CLEANERS - GLASS\",\"CLEANERS - TOILET\",\"CLEANERS - UTENSIL\",\"COCONUT OIL PKTYP (08/02)\",\"COFFEE\",\"CONFECTIONERY - LOLLIPOP/FMR\",\"CONFECTIONERY - TOFFEE/HBC\",\"DETERGENT CAKES/BARS\",\"DIGESTIVES\",\"FRAGRANCE-PERFUM,DEO & COLOGNE\",\"GLUCOSE POWDER & TABLET\",\"HAIR CONDITIONERS\",\"HAIR DYES     (1/76)\",\"HAIR OILS PKTP(8/02)\",\"HOME INSECTICIDES CTG  (8/93)\",\"JAMS/JELLY/MARMALADES-CTG\",\"KETCHUPS/SAUCES\",\"LIQUID TOILET SOAPS  (8/93)\",\"MILK POWDERS\",\"MOSQUITO REPELLANTS CTG (8/93)\",\"NON-REFINED OILS   (9/93)\",\"OLIVE OILS\",\"OTHER SCOURERS\",\"PACKAGED ATTA (1/95)\",\"PACKAGED PURE GHEE\",\"PACKAGED RICE (1/95)\",\"PACKAGED TEA\",\"PRE-POST WASH PRODUCTS\",\"PRICKLY HEAT POWDER\",\"READY TO EAT\",\"REFINED EDIBLE OILS-ALL PACKS\",\"SALTY SNACKS (2/97)\",\"SANITARY NAPKINS\",\"SCOURING PADS/SCRUBS\",\"SHAMPOO - BY SEGMENTS\",\"SHAVING PREPARATIONS\",\"SHOE POLISHES\",\"SKIN CREAMS\",\"SPICES (03/04)\",\"SQSH CRDLS & SFT DRNK-CONVERTD\",\"SUGAR SUBSTITUTE (11/05)\",\"TALCUM POWDERS\",\"TOILET SOAPS (04/00)\",\"TOOTH BRUSH   (7/93)\",\"TOOTH PASTES\",\"TOOTH POWDERS\",\"VERMICELLI & NOODLE\",\"WASHING POWDERS/LIQUIDS\"],\"y\":[20.0,24.0,4.0,3.0,1.0,112.0,5.0,1619.0,7.0,23.0,88.0,83.0,221.0,21.0,2.0,8027.0,2076.0,14.0,97.0,4.0,81.0,8.0,1.0,1002.0,4.0,1.0,8.0,6.0,2023.0,12.0,30.0,1020.0,74.0,28.0,11.0,1.0,25.0,58.0,3021.0,22.0,282.0,22.0,3.0,34.0,3057.0,134.0,4.0,2.0,8.0,3.0,7.0,2.0,77.0,19.0,20.0,4.0,69.0,5.0,22.0,6.0,38.0,83.0],\"type\":\"bar\"},{\"name\":\"N3\",\"x\":[\"AGARBATTI & DHOOPBATTI\",\"ALL AIR FRESHNERS(01/03)\",\"ALL IODISED SALT\",\"ANTACIDS\",\"ANTISEPTIC LIQUIDS (4/97)\",\"BATTERIES\",\"BEVERAGES\",\"BISCUITS - CORE & NON CORE\",\"BLUES\",\"BREAKFAST CEREALS\",\"BUTTER MARGR  (4/94)\",\"CHEESE        (4/94)\",\"CHOCOLATE\",\"CLEANERS - FLOOR\",\"CLEANERS - TOILET\",\"CLEANERS - UTENSIL\",\"COCONUT OIL PKTYP (08/02)\",\"COFFEE\",\"CONFECTIONERY - COUGH LOZENGE\",\"CONFECTIONERY - ECLAIRS\",\"CONFECTIONERY - LOLLIPOP/FMR\",\"CONFECTIONERY - TOFFEE/HBC\",\"DETERGENT CAKES/BARS\",\"FRAGRANCE-PERFUM,DEO & COLOGNE\",\"GLUCOSE POWDER & TABLET\",\"HAIR CONDITIONERS\",\"HAIR DYES     (1/76)\",\"HAIR OILS PKTP(8/02)\",\"HOME INSECTICIDES CTG  (8/93)\",\"JAMS/JELLY/MARMALADES-CTG\",\"KETCHUPS/SAUCES\",\"LIQUID TOILET SOAPS  (8/93)\",\"MILK POWDERS\",\"MOSQUITO REPELLANTS CTG (8/93)\",\"NON-REFINED OILS   (9/93)\",\"OTHER SCOURERS\",\"PACKAGED ATTA (1/95)\",\"PACKAGED PURE GHEE\",\"PACKAGED TEA\",\"PALMOLEIN REFINED OIL (01/03)\",\"PRE-POST WASH PRODUCTS\",\"PRICKLY HEAT POWDER\",\"READY TO EAT\",\"REFINED EDIBLE OILS-ALL PACKS\",\"RUBEFACIENT\",\"SALTY SNACKS (2/97)\",\"SANITARY NAPKINS\",\"SCOURING PADS/SCRUBS\",\"SHAMPOO - BY SEGMENTS\",\"SKIN CREAMS\",\"SOAP CAKES/BARS\",\"SPICES (03/04)\",\"SQSH CRDLS & SFT DRNK-CONVERTD\",\"TALCUM POWDERS\",\"TOILET SOAPS (04/00)\",\"TOOTH BRUSH   (7/93)\",\"TOOTH PASTES\",\"TWIN BLADES\",\"VANASPATI CONS PACK (8/94)\",\"VERMICELLI & NOODLE\",\"WASHING POWDERS/LIQUIDS\"],\"y\":[7.0,8.0,45.0,10.0,10.0,27.0,10.0,803.0,3.0,44.0,66.0,25.0,137.0,13.0,6.0,70.0,19.0,17.0,3.0,1.0,1.0,6.0,81.0,1.0,7.0,4.0,9.0,8.0,12.0,7.0,52.0,11.0,3.0,7.0,9.0,3.0,24.0,52.0,67.0,3.0,14.0,3.0,51.0,88.0,3.0,208.0,12.0,8.0,71.0,7.0,4.0,112.0,39.0,4.0,103.0,2.0,46.0,2.0,22.0,218.0,169.0],\"type\":\"bar\"},{\"name\":\"N4\",\"x\":[\"AFTER SHAVE LOTIONS\",\"AGARBATTI & DHOOPBATTI\",\"ALL AIR FRESHNERS(01/03)\",\"ALL IODISED SALT\",\"ANTACIDS\",\"ANTISEPTIC LIQUIDS (4/97)\",\"BATTERIES\",\"BEVERAGES\",\"BISCUITS - CORE & NON CORE\",\"BLUES\",\"BREAKFAST CEREALS\",\"CHOCOLATE\",\"CHYAVANPRASH\",\"CLEANERS - FLOOR\",\"CLEANERS - GLASS\",\"CLEANERS - TOILET\",\"CLEANERS - UTENSIL\",\"COCONUT OIL PKTYP (08/02)\",\"COFFEE\",\"CONFECTIONERY - ECLAIRS\",\"CONFECTIONERY - TOFFEE/HBC\",\"DETERGENT CAKES/BARS\",\"FRAGRANCE-PERFUM,DEO & COLOGNE\",\"GLUCOSE POWDER & TABLET\",\"HAIR CONDITIONERS\",\"HAIR DYES     (1/76)\",\"HAIR OILS PKTP(8/02)\",\"HAIR REMOVER\",\"HOME INSECTICIDES CTG  (8/93)\",\"JAMS/JELLY/MARMALADES-CTG\",\"KETCHUPS/SAUCES\",\"LIQUID TOILET SOAPS  (8/93)\",\"MOSQUITO REPELLANTS CTG (8/93)\",\"PACKAGED TEA\",\"PRE-POST WASH PRODUCTS\",\"PRICKLY HEAT POWDER\",\"REFINED EDIBLE OILS-ALL PACKS\",\"RUBEFACIENT\",\"SAFETY RAZOR BLADES\",\"SALTY SNACKS (2/97)\",\"SANITARY NAPKINS\",\"SCOURING PADS/SCRUBS\",\"SHAMPOO - BY SEGMENTS\",\"SHAVING PREPARATIONS\",\"SKIN CREAMS\",\"SOAP CAKES/BARS\",\"SPICES (03/04)\",\"SQSH CRDLS & SFT DRNK-CONVERTD\",\"SUGAR SUBSTITUTE (11/05)\",\"TALCUM POWDERS\",\"TOILET SOAPS (04/00)\",\"TOOTH BRUSH   (7/93)\",\"TOOTH PASTES\",\"TOOTH POWDERS\",\"TWIN BLADES\",\"VERMICELLI & NOODLE\",\"WASHING POWDERS/LIQUIDS\"],\"y\":[1.0,6.0,19.0,23.0,10.0,6.0,30.0,11.0,2081.0,4.0,6.0,635.0,3.0,46.0,4.0,44.0,548.0,109.0,4.0,37.0,6.0,678.0,6.0,1.0,29.0,46.0,63.0,1.0,22.0,8.0,11.0,35.0,49.0,148.0,130.0,22.0,8.0,12.0,4.0,189.0,35.0,44.0,459.0,10.0,42.0,122.0,1.0,3.0,2.0,49.0,432.0,40.0,283.0,6.0,9.0,105.0,1171.0],\"type\":\"bar\"},{\"name\":\"N5\",\"x\":[\"AFTER SHAVE LOTIONS\",\"AGARBATTI & DHOOPBATTI\",\"ALL AIR FRESHNERS(01/03)\",\"ALL IODISED SALT\",\"ANTACIDS\",\"ANTISEPTIC CREAMS\",\"ANTISEPTIC LIQUIDS (4/97)\",\"BABY FOODS\",\"BABY OILS / MASSAGE OILS\",\"BATTERIES\",\"BEVERAGES\",\"BISCUITS - CORE & NON CORE\",\"BLUES\",\"BREAKFAST CEREALS\",\"BUTTER MARGR  (4/94)\",\"CHEESE        (4/94)\",\"CHOCOLATE\",\"CHYAVANPRASH\",\"CLEANERS - FLOOR\",\"CLEANERS - GLASS\",\"CLEANERS - TOILET\",\"CLEANERS - UTENSIL\",\"COCONUT OIL PKTYP (08/02)\",\"COFFEE\",\"CONDOMS\",\"CONFECTIONERY - COUGH LOZENGE\",\"CONFECTIONERY - ECLAIRS\",\"CONFECTIONERY - TOFFEE/HBC\",\"DETERGENT CAKES/BARS\",\"DIAPERS       (8/93)\",\"DIGESTIVES\",\"FRAGRANCE-PERFUM,DEO & COLOGNE\",\"GLUCOSE POWDER & TABLET\",\"HAIR CONDITIONERS\",\"HAIR DYES     (1/76)\",\"HAIR OILS PKTP(8/02)\",\"HAIR REMOVER\",\"HOME INSECTICIDES CTG  (8/93)\",\"JAMS/JELLY/MARMALADES-CTG\",\"KETCHUPS/SAUCES\",\"LIQUID TOILET SOAPS  (8/93)\",\"MILK FOODS\",\"MILK POWDERS\",\"MOSQUITO REPELLANTS CTG (8/93)\",\"NON-REFINED OILS   (9/93)\",\"OLIVE OILS\",\"OTHER SCOURERS\",\"PACKAGED PURE GHEE\",\"PACKAGED TEA\",\"PRE-POST WASH PRODUCTS\",\"PRICKLY HEAT POWDER\",\"READY TO EAT\",\"REFINED EDIBLE OILS-ALL PACKS\",\"RUBEFACIENT\",\"SAFETY RAZOR BLADES\",\"SALTY SNACKS (2/97)\",\"SANITARY NAPKINS\",\"SCOURING PADS/SCRUBS\",\"SHAMPOO - BY SEGMENTS\",\"SHAVING PREPARATIONS\",\"SHOE POLISHES\",\"SKIN CREAMS\",\"SPICES (03/04)\",\"SQSH CRDLS & SFT DRNK-CONVERTD\",\"SUGAR SUBSTITUTE (11/05)\",\"TALCUM POWDERS\",\"TOILET SOAPS (04/00)\",\"TOOTH BRUSH   (7/93)\",\"TOOTH PASTES\",\"TOOTH POWDERS\",\"TWIN BLADES\",\"VERMICELLI & NOODLE\",\"WASHING POWDERS/LIQUIDS\"],\"y\":[1.0,31.0,15.0,8.0,16.0,2.0,20.0,10.0,5.0,23.0,72.0,2691.0,1.0,69.0,71.0,2.0,530.0,2.0,52.0,4.0,11.0,195.0,31.0,4.0,4.0,5.0,14.0,18.0,132.0,106.0,4.0,92.0,24.0,26.0,102.0,93.0,5.0,20.0,12.0,28.0,28.0,5.0,4.0,38.0,2.0,6.0,1.0,18.0,56.0,24.0,6.0,14.0,8.0,17.0,3.0,415.0,198.0,8.0,352.0,10.0,8.0,168.0,33.0,6.0,2.0,27.0,189.0,33.0,137.0,6.0,15.0,594.0,160.0],\"type\":\"bar\"},{\"name\":\"N6\",\"x\":[\"AGARBATTI & DHOOPBATTI\",\"ALL AIR FRESHNERS(01/03)\",\"ALL IODISED SALT\",\"ANTACIDS\",\"ANTISEPTIC LIQUIDS (4/97)\",\"BEVERAGES\",\"BISCUITS - CORE & NON CORE\",\"BREAKFAST CEREALS\",\"BUTTER MARGR  (4/94)\",\"CHEESE        (4/94)\",\"CHOCOLATE\",\"CLEANERS - FLOOR\",\"CLEANERS - GLASS\",\"CLEANERS - TOILET\",\"CLEANERS - UTENSIL\",\"COCONUT OIL PKTYP (08/02)\",\"COFFEE\",\"CONFECTIONERY - ECLAIRS\",\"DETERGENT CAKES/BARS\",\"DIAPERS       (8/93)\",\"FRAGRANCE-PERFUM,DEO & COLOGNE\",\"HAIR CONDITIONERS\",\"HAIR DYES     (1/76)\",\"HAIR OILS PKTP(8/02)\",\"HOME INSECTICIDES CTG  (8/93)\",\"JAMS/JELLY/MARMALADES-CTG\",\"KETCHUPS/SAUCES\",\"LIQUID TOILET SOAPS  (8/93)\",\"MILK POWDERS\",\"MOSQUITO REPELLANTS CTG (8/93)\",\"NON-REFINED OILS   (9/93)\",\"OLIVE OILS\",\"OTHER SCOURERS\",\"PACKAGED ATTA (1/95)\",\"PACKAGED PURE GHEE\",\"PACKAGED RICE (1/95)\",\"PACKAGED TEA\",\"PRE-POST WASH PRODUCTS\",\"READY TO EAT\",\"REFINED EDIBLE OILS-ALL PACKS\",\"SALTY SNACKS (2/97)\",\"SANITARY NAPKINS\",\"SCOURING PADS/SCRUBS\",\"SHAMPOO - BY SEGMENTS\",\"SHAVING PREPARATIONS\",\"SHOE POLISHES\",\"SKIN CREAMS\",\"SPICES (03/04)\",\"SQSH CRDLS & SFT DRNK-CONVERTD\",\"SUGAR SUBSTITUTE (11/05)\",\"TALCUM POWDERS\",\"TOILET SOAPS (04/00)\",\"TOOTH BRUSH   (7/93)\",\"TOOTH PASTES\",\"TWIN BLADES\",\"VERMICELLI & NOODLE\",\"WASHING POWDERS/LIQUIDS\"],\"y\":[1.0,15.0,24.0,18.0,10.0,12.0,545.0,11.0,79.0,40.0,74.0,22.0,3.0,19.0,44.0,6.0,10.0,4.0,12.0,2.0,6.0,14.0,7.0,4.0,4.0,6.0,21.0,11.0,1.0,17.0,6.0,1.0,2.0,38.0,23.0,10.0,42.0,4.0,37.0,79.0,187.0,4.0,5.0,12.0,2.0,1.0,3.0,95.0,3.0,1.0,3.0,57.0,18.0,29.0,1.0,196.0,33.0],\"type\":\"bar\"},{\"name\":\"N7\",\"x\":[\"AGARBATTI & DHOOPBATTI\",\"ALL AIR FRESHNERS(01/03)\",\"ALL IODISED SALT\",\"ANTACIDS\",\"ANTISEPTIC LIQUIDS (4/97)\",\"BATTERIES\",\"BEVERAGES\",\"BISCUITS - CORE & NON CORE\",\"BLUES\",\"BREAKFAST CEREALS\",\"BUTTER MARGR  (4/94)\",\"CHEESE        (4/94)\",\"CHOCOLATE\",\"CLEANERS - FLOOR\",\"CLEANERS - GLASS\",\"CLEANERS - TOILET\",\"CLEANERS - UTENSIL\",\"COCONUT OIL PKTYP (08/02)\",\"COFFEE\",\"CONFECTIONERY - ECLAIRS\",\"CONFECTIONERY - LOLLIPOP/FMR\",\"CONFECTIONERY - TOFFEE/HBC\",\"CONFECTIONERY - TOTAL GUM\",\"DETERGENT CAKES/BARS\",\"DIAPERS       (8/93)\",\"DIGESTIVES\",\"FRAGRANCE-PERFUM,DEO & COLOGNE\",\"GLUCOSE POWDER & TABLET\",\"HAIR CONDITIONERS\",\"HAIR DYES     (1/76)\",\"HAIR OILS PKTP(8/02)\",\"HOME INSECTICIDES CTG  (8/93)\",\"JAMS/JELLY/MARMALADES-CTG\",\"KETCHUPS/SAUCES\",\"LIQUID TOILET SOAPS  (8/93)\",\"MILK POWDERS\",\"MOSQUITO REPELLANTS CTG (8/93)\",\"NON-REFINED OILS   (9/93)\",\"OTHER SCOURERS\",\"PACKAGED ATTA (1/95)\",\"PACKAGED PURE GHEE\",\"PACKAGED RICE (1/95)\",\"PACKAGED TEA\",\"PALMOLEIN REFINED OIL (01/03)\",\"PRE-POST WASH PRODUCTS\",\"PRICKLY HEAT POWDER\",\"READY TO EAT\",\"REFINED EDIBLE OILS-ALL PACKS\",\"RUBEFACIENT\",\"SAFETY RAZOR BLADES\",\"SALTY SNACKS (2/97)\",\"SANITARY NAPKINS\",\"SCOURING PADS/SCRUBS\",\"SHAMPOO - BY SEGMENTS\",\"SHAVING PREPARATIONS\",\"SHOE POLISHES\",\"SKIN CREAMS\",\"SOAP CAKES/BARS\",\"SPICES (03/04)\",\"SQSH CRDLS & SFT DRNK-CONVERTD\",\"TALCUM POWDERS\",\"TOILET SOAPS (04/00)\",\"TOOTH BRUSH   (7/93)\",\"TOOTH PASTES\",\"TOOTH POWDERS\",\"TWIN BLADES\",\"VANASPATI CONS PACK (8/94)\",\"VERMICELLI & NOODLE\",\"WASHING POWDERS/LIQUIDS\"],\"y\":[30.0,33.0,184.0,22.0,9.0,71.0,20.0,1894.0,7.0,66.0,60.0,17.0,385.0,58.0,2.0,21.0,258.0,69.0,214.0,196.0,3.0,220.0,16.0,206.0,18.0,1.0,5.0,13.0,39.0,61.0,6037.0,12.0,24.0,66.0,32.0,15.0,11.0,30.0,6.0,310.0,66.0,43.0,190.0,1.0,100.0,5.0,161.0,3403.0,5.0,19.0,508.0,4.0,38.0,304.0,5.0,1.0,32.0,11.0,739.0,30.0,18.0,321.0,24.0,111.0,3.0,12.0,20.0,453.0,529.0],\"type\":\"bar\"},{\"name\":\"N8\",\"x\":[\"AFTER SHAVE LOTIONS\",\"AGARBATTI & DHOOPBATTI\",\"ALL AIR FRESHNERS(01/03)\",\"ALL IODISED SALT\",\"ANTACIDS\",\"ANTISEPTIC LIQUIDS (4/97)\",\"BATTERIES\",\"BEVERAGES\",\"BISCUITS - CORE & NON CORE\",\"BREAKFAST CEREALS\",\"BUTTER MARGR  (4/94)\",\"CHEESE        (4/94)\",\"CHOCOLATE\",\"CLEANERS - FLOOR\",\"CLEANERS - GLASS\",\"CLEANERS - TOILET\",\"CLEANERS - UTENSIL\",\"COCONUT OIL PKTYP (08/02)\",\"COFFEE\",\"CONDOMS\",\"CONFECTIONERY - ECLAIRS\",\"CONFECTIONERY - TOFFEE/HBC\",\"DETERGENT CAKES/BARS\",\"DIAPERS       (8/93)\",\"DIGESTIVES\",\"FRAGRANCE-PERFUM,DEO & COLOGNE\",\"HAIR CONDITIONERS\",\"HAIR DYES     (1/76)\",\"HAIR REMOVER\",\"HOME INSECTICIDES CTG  (8/93)\",\"JAMS/JELLY/MARMALADES-CTG\",\"KETCHUPS/SAUCES\",\"LIQUID TOILET SOAPS  (8/93)\",\"MILK POWDERS\",\"MOSQUITO REPELLANTS CTG (8/93)\",\"NON-REFINED OILS   (9/93)\",\"OTHER SCOURERS\",\"PACKAGED ATTA (1/95)\",\"PACKAGED PURE GHEE\",\"PACKAGED RICE (1/95)\",\"PACKAGED TEA\",\"PRE-POST WASH PRODUCTS\",\"READY TO EAT\",\"REFINED EDIBLE OILS-ALL PACKS\",\"RUBEFACIENT\",\"SAFETY RAZOR BLADES\",\"SALTY SNACKS (2/97)\",\"SANITARY NAPKINS\",\"SCOURING PADS/SCRUBS\",\"SHAMPOO - BY SEGMENTS\",\"SHOE POLISHES\",\"SKIN CREAMS\",\"SPICES (03/04)\",\"SQSH CRDLS & SFT DRNK-CONVERTD\",\"SUGAR SUBSTITUTE (11/05)\",\"TOILET SOAPS (04/00)\",\"TOOTH BRUSH   (7/93)\",\"TOOTH PASTES\",\"TWIN BLADES\",\"VANASPATI CONS PACK (8/94)\",\"VERMICELLI & NOODLE\",\"WASHING POWDERS/LIQUIDS\"],\"y\":[1.0,22.0,14.0,28.0,5.0,2.0,14.0,4.0,1009.0,11.0,33.0,14.0,28.0,29.0,2.0,7.0,60.0,2.0,33.0,1.0,3.0,3.0,3.0,1.0,1.0,4.0,2.0,2.0,2.0,5.0,4.0,12.0,2.0,15.0,11.0,15.0,6.0,71.0,177.0,3.0,100.0,1.0,16.0,65.0,1.0,2.0,163.0,4.0,32.0,10.0,1.0,2.0,114.0,2.0,1.0,41.0,1.0,10.0,1.0,7.0,168.0,105.0],\"type\":\"bar\"},{\"name\":\"N9\",\"x\":[\"AGARBATTI & DHOOPBATTI\",\"ALL AIR FRESHNERS(01/03)\",\"ALL IODISED SALT\",\"ANTACIDS\",\"ANTISEPTIC LIQUIDS (4/97)\",\"BATTERIES\",\"BEVERAGES\",\"BISCUITS - CORE & NON CORE\",\"BLUES\",\"BREAKFAST CEREALS\",\"BUTTER MARGR  (4/94)\",\"CHEESE        (4/94)\",\"CHOCOLATE\",\"CLEANERS - FLOOR\",\"CLEANERS - GLASS\",\"CLEANERS - TOILET\",\"CLEANERS - UTENSIL\",\"COCONUT OIL PKTYP (08/02)\",\"COFFEE\",\"CONFECTIONERY - ECLAIRS\",\"CONFECTIONERY - TOFFEE/HBC\",\"DETERGENT CAKES/BARS\",\"DIGESTIVES\",\"FRAGRANCE-PERFUM,DEO & COLOGNE\",\"GLUCOSE POWDER & TABLET\",\"HAIR CONDITIONERS\",\"HAIR DYES     (1/76)\",\"HAIR OILS PKTP(8/02)\",\"HOME INSECTICIDES CTG  (8/93)\",\"JAMS/JELLY/MARMALADES-CTG\",\"KETCHUPS/SAUCES\",\"LIQUID TOILET SOAPS  (8/93)\",\"MILK POWDERS\",\"MOSQUITO REPELLANTS CTG (8/93)\",\"NON-REFINED OILS   (9/93)\",\"OLIVE OILS\",\"PACKAGED ATTA (1/95)\",\"PACKAGED PURE GHEE\",\"PACKAGED RICE (1/95)\",\"PACKAGED TEA\",\"PRE-POST WASH PRODUCTS\",\"PRICKLY HEAT POWDER\",\"READY TO EAT\",\"REFINED EDIBLE OILS-ALL PACKS\",\"RUBEFACIENT\",\"SALTY SNACKS (2/97)\",\"SCOURING PADS/SCRUBS\",\"SHAMPOO - BY SEGMENTS\",\"SHAVING PREPARATIONS\",\"SKIN CREAMS\",\"SPICES (03/04)\",\"SQSH CRDLS & SFT DRNK-CONVERTD\",\"SUGAR SUBSTITUTE (11/05)\",\"TALCUM POWDERS\",\"TOILET SOAPS (04/00)\",\"TOOTH BRUSH   (7/93)\",\"TOOTH PASTES\",\"VANASPATI CONS PACK (8/94)\",\"VERMICELLI & NOODLE\",\"WASHING POWDERS/LIQUIDS\"],\"y\":[17.0,11.0,71.0,1.0,16.0,35.0,8.0,395.0,2.0,18.0,93.0,66.0,17.0,55.0,9.0,64.0,104.0,21.0,18.0,1.0,2.0,104.0,1.0,1.0,2.0,1.0,14.0,22.0,16.0,12.0,45.0,16.0,4.0,39.0,19.0,2.0,95.0,40.0,19.0,157.0,32.0,3.0,54.0,149.0,1.0,59.0,32.0,12.0,3.0,12.0,232.0,17.0,11.0,4.0,80.0,13.0,45.0,7.0,70.0,144.0],\"type\":\"bar\"},{\"name\":\"N10\",\"x\":[\"AGARBATTI & DHOOPBATTI\",\"ALL IODISED SALT\",\"ANTACIDS\",\"BATTERIES\",\"BEVERAGES\",\"BISCUITS - CORE & NON CORE\",\"BREAKFAST CEREALS\",\"BUTTER MARGR  (4/94)\",\"CHEESE        (4/94)\",\"CHOCOLATE\",\"CLEANERS - FLOOR\",\"CLEANERS - GLASS\",\"CLEANERS - TOILET\",\"CLEANERS - UTENSIL\",\"COCONUT OIL PKTYP (08/02)\",\"COFFEE\",\"CONFECTIONERY - ECLAIRS\",\"CONFECTIONERY - TOFFEE/HBC\",\"DETERGENT CAKES/BARS\",\"HAIR OILS PKTP(8/02)\",\"JAMS/JELLY/MARMALADES-CTG\",\"KETCHUPS/SAUCES\",\"LIQUID TOILET SOAPS  (8/93)\",\"MILK POWDERS\",\"NON-REFINED OILS   (9/93)\",\"PACKAGED ATTA (1/95)\",\"PACKAGED PURE GHEE\",\"PACKAGED RICE (1/95)\",\"PACKAGED TEA\",\"PALMOLEIN REFINED OIL (01/03)\",\"PRE-POST WASH PRODUCTS\",\"READY TO EAT\",\"REFINED EDIBLE OILS-ALL PACKS\",\"SALTY SNACKS (2/97)\",\"SCOURING PADS/SCRUBS\",\"SHAVING PREPARATIONS\",\"SKIN CREAMS\",\"SOAP CAKES/BARS\",\"SPICES (03/04)\",\"SQSH CRDLS & SFT DRNK-CONVERTD\",\"TOILET SOAPS (04/00)\",\"TOOTH BRUSH   (7/93)\",\"TOOTH PASTES\",\"VANASPATI CONS PACK (8/94)\",\"VERMICELLI & NOODLE\",\"WASHING POWDERS/LIQUIDS\"],\"y\":[24.0,109.0,25.0,10.0,33.0,1333.0,66.0,109.0,47.0,491.0,19.0,1.0,4.0,35.0,4.0,9.0,1.0,1.0,7.0,2.0,11.0,66.0,13.0,85.0,25.0,135.0,26.0,3.0,136.0,20.0,12.0,78.0,102.0,116.0,6.0,3.0,2.0,20.0,131.0,28.0,13.0,1.0,22.0,2.0,153.0,49.0],\"type\":\"bar\"}],                        {\"title\":{\"text\":\"Sales By Category\"},\"xaxis\":{\"title\":{\"text\":\"Category\"}},\"yaxis\":{\"title\":{\"text\":\"Sales\"}},\"template\":{\"data\":{\"bar\":[{\"error_x\":{\"color\":\"#2a3f5f\"},\"error_y\":{\"color\":\"#2a3f5f\"},\"marker\":{\"line\":{\"color\":\"#E5ECF6\",\"width\":0.5},\"pattern\":{\"fillmode\":\"overlay\",\"size\":10,\"solidity\":0.2}},\"type\":\"bar\"}],\"barpolar\":[{\"marker\":{\"line\":{\"color\":\"#E5ECF6\",\"width\":0.5},\"pattern\":{\"fillmode\":\"overlay\",\"size\":10,\"solidity\":0.2}},\"type\":\"barpolar\"}],\"carpet\":[{\"aaxis\":{\"endlinecolor\":\"#2a3f5f\",\"gridcolor\":\"white\",\"linecolor\":\"white\",\"minorgridcolor\":\"white\",\"startlinecolor\":\"#2a3f5f\"},\"baxis\":{\"endlinecolor\":\"#2a3f5f\",\"gridcolor\":\"white\",\"linecolor\":\"white\",\"minorgridcolor\":\"white\",\"startlinecolor\":\"#2a3f5f\"},\"type\":\"carpet\"}],\"choropleth\":[{\"colorbar\":{\"outlinewidth\":0,\"ticks\":\"\"},\"type\":\"choropleth\"}],\"contour\":[{\"colorbar\":{\"outlinewidth\":0,\"ticks\":\"\"},\"colorscale\":[[0.0,\"#0d0887\"],[0.1111111111111111,\"#46039f\"],[0.2222222222222222,\"#7201a8\"],[0.3333333333333333,\"#9c179e\"],[0.4444444444444444,\"#bd3786\"],[0.5555555555555556,\"#d8576b\"],[0.6666666666666666,\"#ed7953\"],[0.7777777777777778,\"#fb9f3a\"],[0.8888888888888888,\"#fdca26\"],[1.0,\"#f0f921\"]],\"type\":\"contour\"}],\"contourcarpet\":[{\"colorbar\":{\"outlinewidth\":0,\"ticks\":\"\"},\"type\":\"contourcarpet\"}],\"heatmap\":[{\"colorbar\":{\"outlinewidth\":0,\"ticks\":\"\"},\"colorscale\":[[0.0,\"#0d0887\"],[0.1111111111111111,\"#46039f\"],[0.2222222222222222,\"#7201a8\"],[0.3333333333333333,\"#9c179e\"],[0.4444444444444444,\"#bd3786\"],[0.5555555555555556,\"#d8576b\"],[0.6666666666666666,\"#ed7953\"],[0.7777777777777778,\"#fb9f3a\"],[0.8888888888888888,\"#fdca26\"],[1.0,\"#f0f921\"]],\"type\":\"heatmap\"}],\"heatmapgl\":[{\"colorbar\":{\"outlinewidth\":0,\"ticks\":\"\"},\"colorscale\":[[0.0,\"#0d0887\"],[0.1111111111111111,\"#46039f\"],[0.2222222222222222,\"#7201a8\"],[0.3333333333333333,\"#9c179e\"],[0.4444444444444444,\"#bd3786\"],[0.5555555555555556,\"#d8576b\"],[0.6666666666666666,\"#ed7953\"],[0.7777777777777778,\"#fb9f3a\"],[0.8888888888888888,\"#fdca26\"],[1.0,\"#f0f921\"]],\"type\":\"heatmapgl\"}],\"histogram\":[{\"marker\":{\"pattern\":{\"fillmode\":\"overlay\",\"size\":10,\"solidity\":0.2}},\"type\":\"histogram\"}],\"histogram2d\":[{\"colorbar\":{\"outlinewidth\":0,\"ticks\":\"\"},\"colorscale\":[[0.0,\"#0d0887\"],[0.1111111111111111,\"#46039f\"],[0.2222222222222222,\"#7201a8\"],[0.3333333333333333,\"#9c179e\"],[0.4444444444444444,\"#bd3786\"],[0.5555555555555556,\"#d8576b\"],[0.6666666666666666,\"#ed7953\"],[0.7777777777777778,\"#fb9f3a\"],[0.8888888888888888,\"#fdca26\"],[1.0,\"#f0f921\"]],\"type\":\"histogram2d\"}],\"histogram2dcontour\":[{\"colorbar\":{\"outlinewidth\":0,\"ticks\":\"\"},\"colorscale\":[[0.0,\"#0d0887\"],[0.1111111111111111,\"#46039f\"],[0.2222222222222222,\"#7201a8\"],[0.3333333333333333,\"#9c179e\"],[0.4444444444444444,\"#bd3786\"],[0.5555555555555556,\"#d8576b\"],[0.6666666666666666,\"#ed7953\"],[0.7777777777777778,\"#fb9f3a\"],[0.8888888888888888,\"#fdca26\"],[1.0,\"#f0f921\"]],\"type\":\"histogram2dcontour\"}],\"mesh3d\":[{\"colorbar\":{\"outlinewidth\":0,\"ticks\":\"\"},\"type\":\"mesh3d\"}],\"parcoords\":[{\"line\":{\"colorbar\":{\"outlinewidth\":0,\"ticks\":\"\"}},\"type\":\"parcoords\"}],\"pie\":[{\"automargin\":true,\"type\":\"pie\"}],\"scatter\":[{\"marker\":{\"colorbar\":{\"outlinewidth\":0,\"ticks\":\"\"}},\"type\":\"scatter\"}],\"scatter3d\":[{\"line\":{\"colorbar\":{\"outlinewidth\":0,\"ticks\":\"\"}},\"marker\":{\"colorbar\":{\"outlinewidth\":0,\"ticks\":\"\"}},\"type\":\"scatter3d\"}],\"scattercarpet\":[{\"marker\":{\"colorbar\":{\"outlinewidth\":0,\"ticks\":\"\"}},\"type\":\"scattercarpet\"}],\"scattergeo\":[{\"marker\":{\"colorbar\":{\"outlinewidth\":0,\"ticks\":\"\"}},\"type\":\"scattergeo\"}],\"scattergl\":[{\"marker\":{\"colorbar\":{\"outlinewidth\":0,\"ticks\":\"\"}},\"type\":\"scattergl\"}],\"scattermapbox\":[{\"marker\":{\"colorbar\":{\"outlinewidth\":0,\"ticks\":\"\"}},\"type\":\"scattermapbox\"}],\"scatterpolar\":[{\"marker\":{\"colorbar\":{\"outlinewidth\":0,\"ticks\":\"\"}},\"type\":\"scatterpolar\"}],\"scatterpolargl\":[{\"marker\":{\"colorbar\":{\"outlinewidth\":0,\"ticks\":\"\"}},\"type\":\"scatterpolargl\"}],\"scatterternary\":[{\"marker\":{\"colorbar\":{\"outlinewidth\":0,\"ticks\":\"\"}},\"type\":\"scatterternary\"}],\"surface\":[{\"colorbar\":{\"outlinewidth\":0,\"ticks\":\"\"},\"colorscale\":[[0.0,\"#0d0887\"],[0.1111111111111111,\"#46039f\"],[0.2222222222222222,\"#7201a8\"],[0.3333333333333333,\"#9c179e\"],[0.4444444444444444,\"#bd3786\"],[0.5555555555555556,\"#d8576b\"],[0.6666666666666666,\"#ed7953\"],[0.7777777777777778,\"#fb9f3a\"],[0.8888888888888888,\"#fdca26\"],[1.0,\"#f0f921\"]],\"type\":\"surface\"}],\"table\":[{\"cells\":{\"fill\":{\"color\":\"#EBF0F8\"},\"line\":{\"color\":\"white\"}},\"header\":{\"fill\":{\"color\":\"#C8D4E3\"},\"line\":{\"color\":\"white\"}},\"type\":\"table\"}]},\"layout\":{\"annotationdefaults\":{\"arrowcolor\":\"#2a3f5f\",\"arrowhead\":0,\"arrowwidth\":1},\"autotypenumbers\":\"strict\",\"coloraxis\":{\"colorbar\":{\"outlinewidth\":0,\"ticks\":\"\"}},\"colorscale\":{\"diverging\":[[0,\"#8e0152\"],[0.1,\"#c51b7d\"],[0.2,\"#de77ae\"],[0.3,\"#f1b6da\"],[0.4,\"#fde0ef\"],[0.5,\"#f7f7f7\"],[0.6,\"#e6f5d0\"],[0.7,\"#b8e186\"],[0.8,\"#7fbc41\"],[0.9,\"#4d9221\"],[1,\"#276419\"]],\"sequential\":[[0.0,\"#0d0887\"],[0.1111111111111111,\"#46039f\"],[0.2222222222222222,\"#7201a8\"],[0.3333333333333333,\"#9c179e\"],[0.4444444444444444,\"#bd3786\"],[0.5555555555555556,\"#d8576b\"],[0.6666666666666666,\"#ed7953\"],[0.7777777777777778,\"#fb9f3a\"],[0.8888888888888888,\"#fdca26\"],[1.0,\"#f0f921\"]],\"sequentialminus\":[[0.0,\"#0d0887\"],[0.1111111111111111,\"#46039f\"],[0.2222222222222222,\"#7201a8\"],[0.3333333333333333,\"#9c179e\"],[0.4444444444444444,\"#bd3786\"],[0.5555555555555556,\"#d8576b\"],[0.6666666666666666,\"#ed7953\"],[0.7777777777777778,\"#fb9f3a\"],[0.8888888888888888,\"#fdca26\"],[1.0,\"#f0f921\"]]},\"colorway\":[\"#636efa\",\"#EF553B\",\"#00cc96\",\"#ab63fa\",\"#FFA15A\",\"#19d3f3\",\"#FF6692\",\"#B6E880\",\"#FF97FF\",\"#FECB52\"],\"font\":{\"color\":\"#2a3f5f\"},\"geo\":{\"bgcolor\":\"white\",\"lakecolor\":\"white\",\"landcolor\":\"#E5ECF6\",\"showlakes\":true,\"showland\":true,\"subunitcolor\":\"white\"},\"hoverlabel\":{\"align\":\"left\"},\"hovermode\":\"closest\",\"mapbox\":{\"style\":\"light\"},\"paper_bgcolor\":\"white\",\"plot_bgcolor\":\"#E5ECF6\",\"polar\":{\"angularaxis\":{\"gridcolor\":\"white\",\"linecolor\":\"white\",\"ticks\":\"\"},\"bgcolor\":\"#E5ECF6\",\"radialaxis\":{\"gridcolor\":\"white\",\"linecolor\":\"white\",\"ticks\":\"\"}},\"scene\":{\"xaxis\":{\"backgroundcolor\":\"#E5ECF6\",\"gridcolor\":\"white\",\"gridwidth\":2,\"linecolor\":\"white\",\"showbackground\":true,\"ticks\":\"\",\"zerolinecolor\":\"white\"},\"yaxis\":{\"backgroundcolor\":\"#E5ECF6\",\"gridcolor\":\"white\",\"gridwidth\":2,\"linecolor\":\"white\",\"showbackground\":true,\"ticks\":\"\",\"zerolinecolor\":\"white\"},\"zaxis\":{\"backgroundcolor\":\"#E5ECF6\",\"gridcolor\":\"white\",\"gridwidth\":2,\"linecolor\":\"white\",\"showbackground\":true,\"ticks\":\"\",\"zerolinecolor\":\"white\"}},\"shapedefaults\":{\"line\":{\"color\":\"#2a3f5f\"}},\"ternary\":{\"aaxis\":{\"gridcolor\":\"white\",\"linecolor\":\"white\",\"ticks\":\"\"},\"baxis\":{\"gridcolor\":\"white\",\"linecolor\":\"white\",\"ticks\":\"\"},\"bgcolor\":\"#E5ECF6\",\"caxis\":{\"gridcolor\":\"white\",\"linecolor\":\"white\",\"ticks\":\"\"}},\"title\":{\"x\":0.05},\"xaxis\":{\"automargin\":true,\"gridcolor\":\"white\",\"linecolor\":\"white\",\"ticks\":\"\",\"title\":{\"standoff\":15},\"zerolinecolor\":\"white\",\"zerolinewidth\":2},\"yaxis\":{\"automargin\":true,\"gridcolor\":\"white\",\"linecolor\":\"white\",\"ticks\":\"\",\"title\":{\"standoff\":15},\"zerolinecolor\":\"white\",\"zerolinewidth\":2}}}},                        {\"responsive\": true}                    ).then(function(){\n",
              "                            \n",
              "var gd = document.getElementById('6a71b19e-2149-4d84-bf85-67426743c24d');\n",
              "var x = new MutationObserver(function (mutations, observer) {{\n",
              "        var display = window.getComputedStyle(gd).display;\n",
              "        if (!display || display === 'none') {{\n",
              "            console.log([gd, 'removed!']);\n",
              "            Plotly.purge(gd);\n",
              "            observer.disconnect();\n",
              "        }}\n",
              "}});\n",
              "\n",
              "// Listen for the removal of the full notebook cells\n",
              "var notebookContainer = gd.closest('#notebook-container');\n",
              "if (notebookContainer) {{\n",
              "    x.observe(notebookContainer, {childList: true});\n",
              "}}\n",
              "\n",
              "// Listen for the clearing of the current output cell\n",
              "var outputEl = gd.closest('.output');\n",
              "if (outputEl) {{\n",
              "    x.observe(outputEl, {childList: true});\n",
              "}}\n",
              "\n",
              "                        })                };                            </script>        </div>\n",
              "</body>\n",
              "</html>"
            ]
          },
          "metadata": {}
        }
      ]
    },
    {
      "cell_type": "code",
      "source": [],
      "metadata": {
        "id": "JN5gCYz96fSG"
      },
      "execution_count": null,
      "outputs": []
    },
    {
      "cell_type": "markdown",
      "source": [
        "3. Sales By Day"
      ],
      "metadata": {
        "id": "sjbVy5tB0a3p"
      }
    },
    {
      "cell_type": "code",
      "source": [
        "data[\"MONTH_DAY\"] = data[\"MONTH\"].astype(str)+\"_\"+data[\"DAY\"].astype(str)\n",
        "salesbyday = data.groupby(['STORECODE','MONTH_DAY'])['VALUE'].sum()\n",
        "salesbyday = salesbyday.to_frame().reset_index()\n"
      ],
      "metadata": {
        "id": "y6y8lCrRbmjg"
      },
      "execution_count": null,
      "outputs": []
    },
    {
      "cell_type": "code",
      "source": [
        "fig_ = go.Figure(layout = go.Layout(\n",
        "        title=\"Sales By Day\",\n",
        "        yaxis_title=\"Sales\",\n",
        "        xaxis_title=\"Month_Day\", )  )\n",
        "for d,p in zip(List_stores, pal):\n",
        "    fig_.add_trace(go.Scatter(x = salesbyday[salesbyday['STORECODE']==d]['MONTH_DAY'],\n",
        "                             y = salesbyday[salesbyday['STORECODE']==d]['VALUE'],\n",
        "                             name = d,\n",
        "                             line_color = p, \n",
        "                             fill=None))   #tozeroy\n",
        "                          \n",
        "\n",
        "\n",
        "\n",
        "fig_.show()"
      ],
      "metadata": {
        "colab": {
          "base_uri": "https://localhost:8080/",
          "height": 542
        },
        "id": "aNJkLQJG69Yx",
        "outputId": "597c793f-d297-4654-b894-5ac911310cc1"
      },
      "execution_count": null,
      "outputs": [
        {
          "output_type": "display_data",
          "data": {
            "text/html": [
              "<html>\n",
              "<head><meta charset=\"utf-8\" /></head>\n",
              "<body>\n",
              "    <div>            <script src=\"https://cdnjs.cloudflare.com/ajax/libs/mathjax/2.7.5/MathJax.js?config=TeX-AMS-MML_SVG\"></script><script type=\"text/javascript\">if (window.MathJax) {MathJax.Hub.Config({SVG: {font: \"STIX-Web\"}});}</script>                <script type=\"text/javascript\">window.PlotlyConfig = {MathJaxConfig: 'local'};</script>\n",
              "        <script src=\"https://cdn.plot.ly/plotly-2.8.3.min.js\"></script>                <div id=\"b9bd162b-7c55-4835-bf86-67756d2ef007\" class=\"plotly-graph-div\" style=\"height:525px; width:100%;\"></div>            <script type=\"text/javascript\">                                    window.PLOTLYENV=window.PLOTLYENV || {};                                    if (document.getElementById(\"b9bd162b-7c55-4835-bf86-67756d2ef007\")) {                    Plotly.newPlot(                        \"b9bd162b-7c55-4835-bf86-67756d2ef007\",                        [{\"line\":{\"color\":\"#482173\"},\"name\":\"N1\",\"x\":[\"M1_10\",\"M1_11\",\"M1_12\",\"M1_13\",\"M1_14\",\"M1_15\",\"M1_16\",\"M1_17\",\"M1_20\",\"M1_21\",\"M1_25\",\"M1_26\",\"M1_28\",\"M1_29\",\"M1_30\",\"M1_4\",\"M1_5\",\"M1_6\",\"M1_7\",\"M1_8\",\"M1_9\",\"M2_1\",\"M2_11\",\"M2_12\",\"M2_13\",\"M2_15\",\"M2_16\",\"M2_17\",\"M2_2\",\"M2_22\",\"M2_24\",\"M2_25\",\"M2_27\",\"M2_28\",\"M2_3\",\"M2_30\",\"M2_31\",\"M2_4\",\"M2_5\",\"M2_6\",\"M2_7\",\"M2_9\",\"M3_10\",\"M3_11\",\"M3_12\",\"M3_13\",\"M3_14\",\"M3_15\",\"M3_16\",\"M3_17\",\"M3_18\",\"M3_19\",\"M3_2\",\"M3_20\",\"M3_23\",\"M3_25\",\"M3_26\",\"M3_27\",\"M3_28\",\"M3_29\",\"M3_3\",\"M3_30\",\"M3_4\",\"M3_5\",\"M3_6\",\"M3_7\",\"M3_8\",\"M3_9\"],\"y\":[3071.95,4184.5,3293.5,3332.46,3928.82,2837.0,2573.76,3412.32,2348.0,2537.9,2808.3,2974.7,1619.14,4613.75,3083.0,4524.77,3493.4,3622.2,5318.0,4037.2,3964.66,661.24,551.6,587.0,762.2,1330.6,572.0,720.0,429.6,612.0,327.8,1474.5,3032.8,486.0,361.8,171.6,1273.5,420.0,2193.8,3042.3,1222.5,727.8,1191.9,2588.1,1806.3,2616.24,2191.9,1469.7,1984.5,2153.8,1843.7,1392.8,3625.8,2091.2,1951.8,2297.0,1576.52,2364.6,1557.2,2909.2,1890.0,1964.8,3655.4,1545.6,830.4,922.4,1315.16,1930.94],\"type\":\"scatter\"},{\"line\":{\"color\":\"#433e85\"},\"name\":\"N2\",\"x\":[\"M1_1\",\"M1_10\",\"M1_11\",\"M1_12\",\"M1_13\",\"M1_15\",\"M1_16\",\"M1_17\",\"M1_18\",\"M1_2\",\"M1_20\",\"M1_22\",\"M1_24\",\"M1_25\",\"M1_26\",\"M1_29\",\"M1_3\",\"M1_30\",\"M1_4\",\"M1_5\",\"M1_6\",\"M1_8\",\"M1_9\",\"M2_1\",\"M2_13\",\"M2_14\",\"M2_15\",\"M2_17\",\"M2_2\",\"M2_21\",\"M2_22\",\"M2_24\",\"M2_27\",\"M2_28\",\"M2_29\",\"M2_3\",\"M2_30\",\"M2_31\",\"M2_4\",\"M2_6\",\"M2_7\",\"M2_8\",\"M2_9\",\"M3_1\",\"M3_10\",\"M3_12\",\"M3_14\",\"M3_15\",\"M3_17\",\"M3_18\",\"M3_19\",\"M3_21\",\"M3_22\",\"M3_24\",\"M3_25\",\"M3_26\",\"M3_28\",\"M3_3\",\"M3_4\",\"M3_5\",\"M3_6\"],\"y\":[6955.0,2129.0,2120.0,2463.0,2985.0,4166.0,4975.0,2310.0,2854.0,5009.0,530.0,9872.0,901.0,2185.0,1628.0,2769.0,1796.0,1125.0,2614.0,9135.0,2198.0,1440.0,4099.0,618.0,2104.0,1607.0,3351.0,1730.0,3990.0,2756.0,3247.0,1831.0,14921.0,577.0,2300.0,3045.0,911.0,8349.0,3539.0,1264.0,1843.0,2483.0,2488.0,5240.0,3754.0,4895.0,2087.0,3732.0,5973.0,4159.0,3439.0,2584.0,1779.0,4379.0,8747.0,3565.0,3993.0,10699.0,4028.0,1446.0,7644.0],\"type\":\"scatter\"},{\"line\":{\"color\":\"#38588c\"},\"name\":\"N3\",\"x\":[\"M1_1\",\"M1_11\",\"M1_12\",\"M1_13\",\"M1_14\",\"M1_15\",\"M1_16\",\"M1_17\",\"M1_18\",\"M1_19\",\"M1_20\",\"M1_21\",\"M1_24\",\"M1_25\",\"M1_28\",\"M1_29\",\"M1_3\",\"M1_30\",\"M1_4\",\"M1_5\",\"M1_9\",\"M2_10\",\"M2_11\",\"M2_12\",\"M2_13\",\"M2_15\",\"M2_16\",\"M2_17\",\"M2_18\",\"M2_19\",\"M2_2\",\"M2_20\",\"M2_21\",\"M2_22\",\"M2_24\",\"M2_25\",\"M2_27\",\"M2_29\",\"M2_3\",\"M2_30\",\"M2_31\",\"M2_4\",\"M2_5\",\"M2_7\",\"M3_1\",\"M3_10\",\"M3_11\",\"M3_13\",\"M3_15\",\"M3_16\",\"M3_17\",\"M3_18\",\"M3_20\",\"M3_21\",\"M3_24\",\"M3_26\",\"M3_27\",\"M3_28\",\"M3_3\",\"M3_30\",\"M3_4\",\"M3_6\",\"M3_8\",\"M3_9\"],\"y\":[2851.0,3913.0,2507.0,2407.0,1289.0,3318.0,1643.0,2947.0,881.0,1589.0,3866.0,3781.0,1403.0,1388.5,5330.0,1901.0,4955.0,901.0,1354.0,4593.0,2516.0,669.0,3050.0,1469.0,1979.0,3083.0,2541.0,3445.0,1788.0,1579.0,695.0,1304.0,1291.0,1625.29,2310.0,2071.0,2571.0,6394.0,1977.0,801.0,2309.0,2418.0,1406.0,649.0,2047.0,1924.0,1134.0,1145.0,1475.0,1297.0,1412.0,757.0,1090.0,568.0,301.0,751.0,1116.0,732.0,1763.0,1937.0,520.0,237.0,1756.0,809.0],\"type\":\"scatter\"},{\"line\":{\"color\":\"#2d708e\"},\"name\":\"N4\",\"x\":[\"M1_1\",\"M1_10\",\"M1_11\",\"M1_14\",\"M1_16\",\"M1_2\",\"M1_23\",\"M1_24\",\"M1_26\",\"M1_28\",\"M1_29\",\"M1_3\",\"M1_30\",\"M1_4\",\"M1_5\",\"M1_6\",\"M1_7\",\"M1_8\",\"M1_9\",\"M2_1\",\"M2_10\",\"M2_11\",\"M2_12\",\"M2_13\",\"M2_14\",\"M2_16\",\"M2_17\",\"M2_18\",\"M2_2\",\"M2_21\",\"M2_23\",\"M2_24\",\"M2_25\",\"M2_28\",\"M2_29\",\"M2_3\",\"M2_30\",\"M2_31\",\"M2_4\",\"M2_5\",\"M2_6\",\"M2_7\",\"M2_8\",\"M3_1\",\"M3_10\",\"M3_11\",\"M3_12\",\"M3_13\",\"M3_14\",\"M3_15\",\"M3_16\",\"M3_17\",\"M3_18\",\"M3_19\",\"M3_2\",\"M3_20\",\"M3_21\",\"M3_23\",\"M3_24\",\"M3_25\",\"M3_26\",\"M3_27\",\"M3_28\",\"M3_29\",\"M3_3\",\"M3_30\",\"M3_4\",\"M3_5\",\"M3_7\",\"M3_8\",\"M3_9\"],\"y\":[3199.2799999999997,5494.1,4317.99,3235.28,2738.32,4907.5,178.0,1815.0,768.5,1672.82,2667.16,2540.66,4031.57,7125.26,1963.44,1349.5,2411.5,3150.66,6571.64,2447.5,1795.5,2336.16,1631.5,3322.06,3229.5,3559.66,2329.5,685.5,3840.0,3209.25,1613.5,2944.5,2121.5,2358.0,1966.0,2784.38,3218.5,2736.0,2173.5,2888.25,2831.5,4425.0,750.0,2941.48,3227.0,2760.2,2971.5,2544.75,4489.83,3295.95,1946.5,4040.1,4972.48,1961.0,3842.0,2084.75,1804.25,2545.0,3003.3,3362.5,1612.25,1058.5,2537.0,5311.76,7455.25,1457.0,2691.5,2636.5,3743.2,2674.0,2570.5],\"type\":\"scatter\"},{\"line\":{\"color\":\"#25858e\"},\"name\":\"N5\",\"x\":[\"M1_10\",\"M1_12\",\"M1_13\",\"M1_14\",\"M1_15\",\"M1_17\",\"M1_2\",\"M1_20\",\"M1_21\",\"M1_22\",\"M1_24\",\"M1_28\",\"M1_29\",\"M1_3\",\"M1_30\",\"M1_31\",\"M1_4\",\"M1_5\",\"M1_6\",\"M1_7\",\"M1_8\",\"M1_9\",\"M2_10\",\"M2_11\",\"M2_12\",\"M2_13\",\"M2_15\",\"M2_16\",\"M2_17\",\"M2_19\",\"M2_2\",\"M2_20\",\"M2_21\",\"M2_23\",\"M2_25\",\"M2_27\",\"M2_28\",\"M2_29\",\"M2_3\",\"M2_30\",\"M2_4\",\"M2_5\",\"M2_6\",\"M2_9\",\"M3_10\",\"M3_11\",\"M3_12\",\"M3_13\",\"M3_14\",\"M3_15\",\"M3_16\",\"M3_17\",\"M3_18\",\"M3_19\",\"M3_2\",\"M3_20\",\"M3_22\",\"M3_23\",\"M3_24\",\"M3_25\",\"M3_28\",\"M3_29\",\"M3_3\",\"M3_30\",\"M3_5\",\"M3_7\",\"M3_8\",\"M3_9\"],\"y\":[1384.0,2070.0,628.0,2365.0,1306.0,989.0,4472.0,281.0,2152.0,978.0,1296.0,577.0,1240.0,2123.0,1420.0,2423.0,2094.0,2399.0,2196.0,989.0,1552.0,1658.0,4260.0,4613.0,5041.0,4142.0,5629.0,2928.0,3279.0,5261.0,8768.0,4807.0,5096.0,4151.0,4575.0,3641.0,3267.0,4743.0,2461.0,3959.0,4263.0,3193.0,4511.0,3962.0,3169.0,4160.0,3450.0,4333.0,4592.0,3260.0,2813.0,4411.0,1766.0,5023.0,6887.0,4704.0,3685.0,4482.0,4961.0,3421.0,4851.0,2411.0,6739.0,4978.0,6957.0,6723.0,3046.0,4093.0],\"type\":\"scatter\"},{\"line\":{\"color\":\"#1e9b8a\"},\"name\":\"N6\",\"x\":[\"M1_1\",\"M1_10\",\"M1_11\",\"M1_12\",\"M1_14\",\"M1_15\",\"M1_19\",\"M1_2\",\"M1_21\",\"M1_22\",\"M1_23\",\"M1_24\",\"M1_26\",\"M1_27\",\"M1_28\",\"M1_29\",\"M1_3\",\"M1_30\",\"M1_31\",\"M2_1\",\"M2_10\",\"M2_12\",\"M2_13\",\"M2_14\",\"M2_15\",\"M2_16\",\"M2_17\",\"M2_19\",\"M2_2\",\"M2_22\",\"M2_25\",\"M2_28\",\"M2_29\",\"M2_30\",\"M2_4\",\"M2_5\",\"M2_6\",\"M2_7\",\"M2_8\",\"M2_9\",\"M3_1\",\"M3_10\",\"M3_11\",\"M3_12\",\"M3_13\",\"M3_14\",\"M3_19\",\"M3_2\",\"M3_21\",\"M3_22\",\"M3_23\",\"M3_24\",\"M3_27\",\"M3_28\",\"M3_29\",\"M3_31\",\"M3_4\",\"M3_5\",\"M3_6\",\"M3_7\",\"M3_8\",\"M3_9\"],\"y\":[643.0,200.0,540.0,60.0,195.0,279.0,40.0,416.0,644.0,497.0,766.0,20.0,455.0,540.0,172.0,292.0,286.0,275.0,742.0,1494.0,1039.0,976.0,383.0,1733.0,757.0,1162.0,791.0,455.0,1576.0,1735.0,1575.0,1484.0,1974.0,1293.0,651.0,588.0,982.0,265.0,1938.0,1116.0,3434.0,3192.0,1049.0,3191.0,4717.0,2211.0,3266.0,5021.0,7498.0,4030.0,4226.0,2577.0,2031.0,4424.0,1811.0,6496.0,4305.0,1741.0,6033.0,3993.0,1244.0,2668.0],\"type\":\"scatter\"},{\"line\":{\"color\":\"#2ab07f\"},\"name\":\"N7\",\"x\":[\"M1_1\",\"M1_12\",\"M1_13\",\"M1_15\",\"M1_17\",\"M1_18\",\"M1_19\",\"M1_2\",\"M1_20\",\"M1_21\",\"M1_23\",\"M1_25\",\"M1_26\",\"M1_27\",\"M1_28\",\"M1_29\",\"M1_3\",\"M1_4\",\"M1_5\",\"M1_7\",\"M1_8\",\"M2_10\",\"M2_11\",\"M2_12\",\"M2_13\",\"M2_15\",\"M2_17\",\"M2_18\",\"M2_19\",\"M2_20\",\"M2_21\",\"M2_22\",\"M2_23\",\"M2_24\",\"M2_25\",\"M2_26\",\"M2_27\",\"M2_28\",\"M2_29\",\"M2_3\",\"M2_30\",\"M2_4\",\"M2_5\",\"M2_6\",\"M2_7\",\"M2_8\",\"M2_9\",\"M3_10\",\"M3_12\",\"M3_13\",\"M3_15\",\"M3_18\",\"M3_2\",\"M3_20\",\"M3_21\",\"M3_23\",\"M3_24\",\"M3_25\",\"M3_27\",\"M3_28\",\"M3_29\",\"M3_3\",\"M3_30\",\"M3_31\",\"M3_4\",\"M3_5\",\"M3_8\",\"M3_9\"],\"y\":[3748.3,3676.41,4900.95,3835.5,4188.5,7076.4,3820.9,2574.5,2415.4,3561.6,5000.85,4295.76,2775.25,3591.25,4745.57,3475.15,4444.85,4642.5,4332.0,3299.75,5132.08,120.0,6569.5,7079.15,4897.67,4664.55,3375.0,4167.74,4992.08,3913.6,3815.25,4618.0,5380.0,2353.25,2987.0,4596.25,6320.75,4053.88,4111.75,2629.75,8067.5,8884.65,6262.5,5025.78,4574.95,4598.89,6900.5,1594.35,2171.5,1752.45,2645.25,2050.75,6939.35,2561.0,1452.0,2479.0,1272.5,1767.25,614.25,6280.09,2208.5,2546.25,4215.3,2994.06,4455.49,5957.05,1944.0,5393.35],\"type\":\"scatter\"},{\"line\":{\"color\":\"#52c569\"},\"name\":\"N8\",\"x\":[\"M1_1\",\"M1_10\",\"M1_11\",\"M1_12\",\"M1_13\",\"M1_15\",\"M1_17\",\"M1_18\",\"M1_19\",\"M1_2\",\"M1_20\",\"M1_21\",\"M1_22\",\"M1_23\",\"M1_24\",\"M1_25\",\"M1_26\",\"M1_27\",\"M1_3\",\"M1_30\",\"M1_31\",\"M1_5\",\"M1_7\",\"M1_8\",\"M2_1\",\"M2_10\",\"M2_12\",\"M2_14\",\"M2_15\",\"M2_17\",\"M2_18\",\"M2_20\",\"M2_21\",\"M2_22\",\"M2_24\",\"M2_25\",\"M2_26\",\"M2_28\",\"M2_29\",\"M2_4\",\"M2_5\",\"M2_6\",\"M2_7\",\"M2_8\",\"M3_1\",\"M3_11\",\"M3_12\",\"M3_14\",\"M3_16\",\"M3_17\",\"M3_18\",\"M3_19\",\"M3_2\",\"M3_20\",\"M3_21\",\"M3_22\",\"M3_24\",\"M3_26\",\"M3_27\",\"M3_28\",\"M3_3\",\"M3_30\",\"M3_31\",\"M3_4\",\"M3_5\",\"M3_6\",\"M3_7\",\"M3_8\",\"M3_9\"],\"y\":[1757.0,594.2,375.0,428.0,415.0,2688.0,1290.0,1518.0,177.0,1305.0,1288.0,782.0,413.0,1888.0,1083.21,141.0,744.0,1691.0,961.0,575.0,640.0,98.01,248.41000000000003,4466.0,1724.0,2096.0,563.0,2167.4,3365.0,2534.0,577.01,2358.4,1137.01,651.0,2082.2,1688.0,1334.0,1418.2,1267.8,2380.0,1699.0,606.0,3000.0,1360.0,1071.0,1166.2,2887.0,859.0,3295.01,914.0,3476.2,2082.0,1068.0,2695.0,496.0,1791.0,940.0,4088.0,1982.0,180.4,4435.0,4000.2,1330.0,9248.0,2522.0,1634.0,357.0,2754.0,1622.0],\"type\":\"scatter\"},{\"line\":{\"color\":\"#86d549\"},\"name\":\"N9\",\"x\":[\"M1_11\",\"M1_12\",\"M1_14\",\"M1_16\",\"M1_17\",\"M1_18\",\"M1_19\",\"M1_2\",\"M1_20\",\"M1_22\",\"M1_23\",\"M1_25\",\"M1_26\",\"M1_28\",\"M1_29\",\"M1_3\",\"M1_30\",\"M1_31\",\"M1_4\",\"M1_6\",\"M1_7\",\"M1_8\",\"M1_9\",\"M2_1\",\"M2_10\",\"M2_11\",\"M2_12\",\"M2_13\",\"M2_16\",\"M2_17\",\"M2_19\",\"M2_2\",\"M2_20\",\"M2_21\",\"M2_24\",\"M2_26\",\"M2_27\",\"M2_3\",\"M2_4\",\"M2_5\",\"M2_6\",\"M2_8\",\"M2_9\",\"M3_1\",\"M3_11\",\"M3_12\",\"M3_14\",\"M3_17\",\"M3_18\",\"M3_19\",\"M3_2\",\"M3_20\",\"M3_3\",\"M3_5\",\"M3_6\",\"M3_7\",\"M3_9\"],\"y\":[3774.0,5324.0,6687.0,4050.0,2144.0,3863.0,4695.0,5987.0,1896.01,4536.0,650.0,3674.0,1071.0,6226.0,3106.0,5508.0,1479.0,9197.0,8838.0,7958.0,10442.0,8019.0,3922.0,6225.0,5773.0,5003.0,10937.0,6924.0,992.0,1707.0,3377.0,7380.0,3603.0,8356.0,3827.0,6308.0,9295.0,7210.0,2070.01,7318.0,3898.0,13213.01,8031.0,1707.0,46.0,490.0,2101.0,730.0,625.0,6373.0,561.0,30.0,1656.0,344.0,451.0,245.0,1065.0],\"type\":\"scatter\"},{\"line\":{\"color\":\"#c2df23\"},\"name\":\"N10\",\"x\":[\"M1_1\",\"M1_10\",\"M1_11\",\"M1_12\",\"M1_13\",\"M1_14\",\"M1_15\",\"M1_16\",\"M1_17\",\"M1_18\",\"M1_19\",\"M1_2\",\"M1_20\",\"M1_21\",\"M1_22\",\"M1_24\",\"M1_25\",\"M1_26\",\"M1_27\",\"M1_29\",\"M1_3\",\"M1_30\",\"M1_31\",\"M1_5\",\"M1_7\",\"M1_8\",\"M1_9\",\"M2_11\",\"M2_13\",\"M2_14\",\"M2_15\",\"M2_17\",\"M2_18\",\"M2_19\",\"M2_2\",\"M2_20\",\"M2_21\",\"M2_23\",\"M2_24\",\"M2_25\",\"M2_26\",\"M2_27\",\"M2_28\",\"M2_29\",\"M2_3\",\"M2_4\",\"M2_5\",\"M2_7\",\"M2_8\",\"M3_1\",\"M3_10\",\"M3_11\",\"M3_12\",\"M3_13\",\"M3_15\",\"M3_17\",\"M3_18\",\"M3_2\",\"M3_20\",\"M3_23\",\"M3_24\",\"M3_25\",\"M3_26\",\"M3_27\",\"M3_28\",\"M3_29\",\"M3_3\",\"M3_30\",\"M3_31\",\"M3_4\",\"M3_5\",\"M3_6\",\"M3_7\",\"M3_8\",\"M3_9\"],\"y\":[725.0,332.0,33.0,398.0,155.0,2242.0,682.0,1485.0,675.0,502.0,1237.0,335.0,377.0,1016.0,1377.0,534.0,522.0,135.0,278.0,3319.0,997.0,834.0,350.0,685.0,496.0,366.0,1350.0,3272.0,2192.0,8199.0,2156.0,1383.0,4251.0,3785.0,3304.0,3305.0,1450.0,2735.0,1893.0,4571.0,2370.0,3877.0,950.0,6849.0,2468.0,2621.0,2988.0,4300.0,5464.0,1802.0,3120.0,1026.0,955.0,2386.0,3220.0,1300.0,1715.0,3911.0,917.0,574.0,970.0,2272.0,1995.0,2440.0,2216.0,2219.0,2132.0,1066.0,711.0,1810.0,1826.0,1047.0,2942.0,752.0,1289.0],\"type\":\"scatter\"}],                        {\"title\":{\"text\":\"Sales By Day\"},\"xaxis\":{\"title\":{\"text\":\"Month_Day\"}},\"yaxis\":{\"title\":{\"text\":\"Sales\"}},\"template\":{\"data\":{\"bar\":[{\"error_x\":{\"color\":\"#2a3f5f\"},\"error_y\":{\"color\":\"#2a3f5f\"},\"marker\":{\"line\":{\"color\":\"#E5ECF6\",\"width\":0.5},\"pattern\":{\"fillmode\":\"overlay\",\"size\":10,\"solidity\":0.2}},\"type\":\"bar\"}],\"barpolar\":[{\"marker\":{\"line\":{\"color\":\"#E5ECF6\",\"width\":0.5},\"pattern\":{\"fillmode\":\"overlay\",\"size\":10,\"solidity\":0.2}},\"type\":\"barpolar\"}],\"carpet\":[{\"aaxis\":{\"endlinecolor\":\"#2a3f5f\",\"gridcolor\":\"white\",\"linecolor\":\"white\",\"minorgridcolor\":\"white\",\"startlinecolor\":\"#2a3f5f\"},\"baxis\":{\"endlinecolor\":\"#2a3f5f\",\"gridcolor\":\"white\",\"linecolor\":\"white\",\"minorgridcolor\":\"white\",\"startlinecolor\":\"#2a3f5f\"},\"type\":\"carpet\"}],\"choropleth\":[{\"colorbar\":{\"outlinewidth\":0,\"ticks\":\"\"},\"type\":\"choropleth\"}],\"contour\":[{\"colorbar\":{\"outlinewidth\":0,\"ticks\":\"\"},\"colorscale\":[[0.0,\"#0d0887\"],[0.1111111111111111,\"#46039f\"],[0.2222222222222222,\"#7201a8\"],[0.3333333333333333,\"#9c179e\"],[0.4444444444444444,\"#bd3786\"],[0.5555555555555556,\"#d8576b\"],[0.6666666666666666,\"#ed7953\"],[0.7777777777777778,\"#fb9f3a\"],[0.8888888888888888,\"#fdca26\"],[1.0,\"#f0f921\"]],\"type\":\"contour\"}],\"contourcarpet\":[{\"colorbar\":{\"outlinewidth\":0,\"ticks\":\"\"},\"type\":\"contourcarpet\"}],\"heatmap\":[{\"colorbar\":{\"outlinewidth\":0,\"ticks\":\"\"},\"colorscale\":[[0.0,\"#0d0887\"],[0.1111111111111111,\"#46039f\"],[0.2222222222222222,\"#7201a8\"],[0.3333333333333333,\"#9c179e\"],[0.4444444444444444,\"#bd3786\"],[0.5555555555555556,\"#d8576b\"],[0.6666666666666666,\"#ed7953\"],[0.7777777777777778,\"#fb9f3a\"],[0.8888888888888888,\"#fdca26\"],[1.0,\"#f0f921\"]],\"type\":\"heatmap\"}],\"heatmapgl\":[{\"colorbar\":{\"outlinewidth\":0,\"ticks\":\"\"},\"colorscale\":[[0.0,\"#0d0887\"],[0.1111111111111111,\"#46039f\"],[0.2222222222222222,\"#7201a8\"],[0.3333333333333333,\"#9c179e\"],[0.4444444444444444,\"#bd3786\"],[0.5555555555555556,\"#d8576b\"],[0.6666666666666666,\"#ed7953\"],[0.7777777777777778,\"#fb9f3a\"],[0.8888888888888888,\"#fdca26\"],[1.0,\"#f0f921\"]],\"type\":\"heatmapgl\"}],\"histogram\":[{\"marker\":{\"pattern\":{\"fillmode\":\"overlay\",\"size\":10,\"solidity\":0.2}},\"type\":\"histogram\"}],\"histogram2d\":[{\"colorbar\":{\"outlinewidth\":0,\"ticks\":\"\"},\"colorscale\":[[0.0,\"#0d0887\"],[0.1111111111111111,\"#46039f\"],[0.2222222222222222,\"#7201a8\"],[0.3333333333333333,\"#9c179e\"],[0.4444444444444444,\"#bd3786\"],[0.5555555555555556,\"#d8576b\"],[0.6666666666666666,\"#ed7953\"],[0.7777777777777778,\"#fb9f3a\"],[0.8888888888888888,\"#fdca26\"],[1.0,\"#f0f921\"]],\"type\":\"histogram2d\"}],\"histogram2dcontour\":[{\"colorbar\":{\"outlinewidth\":0,\"ticks\":\"\"},\"colorscale\":[[0.0,\"#0d0887\"],[0.1111111111111111,\"#46039f\"],[0.2222222222222222,\"#7201a8\"],[0.3333333333333333,\"#9c179e\"],[0.4444444444444444,\"#bd3786\"],[0.5555555555555556,\"#d8576b\"],[0.6666666666666666,\"#ed7953\"],[0.7777777777777778,\"#fb9f3a\"],[0.8888888888888888,\"#fdca26\"],[1.0,\"#f0f921\"]],\"type\":\"histogram2dcontour\"}],\"mesh3d\":[{\"colorbar\":{\"outlinewidth\":0,\"ticks\":\"\"},\"type\":\"mesh3d\"}],\"parcoords\":[{\"line\":{\"colorbar\":{\"outlinewidth\":0,\"ticks\":\"\"}},\"type\":\"parcoords\"}],\"pie\":[{\"automargin\":true,\"type\":\"pie\"}],\"scatter\":[{\"marker\":{\"colorbar\":{\"outlinewidth\":0,\"ticks\":\"\"}},\"type\":\"scatter\"}],\"scatter3d\":[{\"line\":{\"colorbar\":{\"outlinewidth\":0,\"ticks\":\"\"}},\"marker\":{\"colorbar\":{\"outlinewidth\":0,\"ticks\":\"\"}},\"type\":\"scatter3d\"}],\"scattercarpet\":[{\"marker\":{\"colorbar\":{\"outlinewidth\":0,\"ticks\":\"\"}},\"type\":\"scattercarpet\"}],\"scattergeo\":[{\"marker\":{\"colorbar\":{\"outlinewidth\":0,\"ticks\":\"\"}},\"type\":\"scattergeo\"}],\"scattergl\":[{\"marker\":{\"colorbar\":{\"outlinewidth\":0,\"ticks\":\"\"}},\"type\":\"scattergl\"}],\"scattermapbox\":[{\"marker\":{\"colorbar\":{\"outlinewidth\":0,\"ticks\":\"\"}},\"type\":\"scattermapbox\"}],\"scatterpolar\":[{\"marker\":{\"colorbar\":{\"outlinewidth\":0,\"ticks\":\"\"}},\"type\":\"scatterpolar\"}],\"scatterpolargl\":[{\"marker\":{\"colorbar\":{\"outlinewidth\":0,\"ticks\":\"\"}},\"type\":\"scatterpolargl\"}],\"scatterternary\":[{\"marker\":{\"colorbar\":{\"outlinewidth\":0,\"ticks\":\"\"}},\"type\":\"scatterternary\"}],\"surface\":[{\"colorbar\":{\"outlinewidth\":0,\"ticks\":\"\"},\"colorscale\":[[0.0,\"#0d0887\"],[0.1111111111111111,\"#46039f\"],[0.2222222222222222,\"#7201a8\"],[0.3333333333333333,\"#9c179e\"],[0.4444444444444444,\"#bd3786\"],[0.5555555555555556,\"#d8576b\"],[0.6666666666666666,\"#ed7953\"],[0.7777777777777778,\"#fb9f3a\"],[0.8888888888888888,\"#fdca26\"],[1.0,\"#f0f921\"]],\"type\":\"surface\"}],\"table\":[{\"cells\":{\"fill\":{\"color\":\"#EBF0F8\"},\"line\":{\"color\":\"white\"}},\"header\":{\"fill\":{\"color\":\"#C8D4E3\"},\"line\":{\"color\":\"white\"}},\"type\":\"table\"}]},\"layout\":{\"annotationdefaults\":{\"arrowcolor\":\"#2a3f5f\",\"arrowhead\":0,\"arrowwidth\":1},\"autotypenumbers\":\"strict\",\"coloraxis\":{\"colorbar\":{\"outlinewidth\":0,\"ticks\":\"\"}},\"colorscale\":{\"diverging\":[[0,\"#8e0152\"],[0.1,\"#c51b7d\"],[0.2,\"#de77ae\"],[0.3,\"#f1b6da\"],[0.4,\"#fde0ef\"],[0.5,\"#f7f7f7\"],[0.6,\"#e6f5d0\"],[0.7,\"#b8e186\"],[0.8,\"#7fbc41\"],[0.9,\"#4d9221\"],[1,\"#276419\"]],\"sequential\":[[0.0,\"#0d0887\"],[0.1111111111111111,\"#46039f\"],[0.2222222222222222,\"#7201a8\"],[0.3333333333333333,\"#9c179e\"],[0.4444444444444444,\"#bd3786\"],[0.5555555555555556,\"#d8576b\"],[0.6666666666666666,\"#ed7953\"],[0.7777777777777778,\"#fb9f3a\"],[0.8888888888888888,\"#fdca26\"],[1.0,\"#f0f921\"]],\"sequentialminus\":[[0.0,\"#0d0887\"],[0.1111111111111111,\"#46039f\"],[0.2222222222222222,\"#7201a8\"],[0.3333333333333333,\"#9c179e\"],[0.4444444444444444,\"#bd3786\"],[0.5555555555555556,\"#d8576b\"],[0.6666666666666666,\"#ed7953\"],[0.7777777777777778,\"#fb9f3a\"],[0.8888888888888888,\"#fdca26\"],[1.0,\"#f0f921\"]]},\"colorway\":[\"#636efa\",\"#EF553B\",\"#00cc96\",\"#ab63fa\",\"#FFA15A\",\"#19d3f3\",\"#FF6692\",\"#B6E880\",\"#FF97FF\",\"#FECB52\"],\"font\":{\"color\":\"#2a3f5f\"},\"geo\":{\"bgcolor\":\"white\",\"lakecolor\":\"white\",\"landcolor\":\"#E5ECF6\",\"showlakes\":true,\"showland\":true,\"subunitcolor\":\"white\"},\"hoverlabel\":{\"align\":\"left\"},\"hovermode\":\"closest\",\"mapbox\":{\"style\":\"light\"},\"paper_bgcolor\":\"white\",\"plot_bgcolor\":\"#E5ECF6\",\"polar\":{\"angularaxis\":{\"gridcolor\":\"white\",\"linecolor\":\"white\",\"ticks\":\"\"},\"bgcolor\":\"#E5ECF6\",\"radialaxis\":{\"gridcolor\":\"white\",\"linecolor\":\"white\",\"ticks\":\"\"}},\"scene\":{\"xaxis\":{\"backgroundcolor\":\"#E5ECF6\",\"gridcolor\":\"white\",\"gridwidth\":2,\"linecolor\":\"white\",\"showbackground\":true,\"ticks\":\"\",\"zerolinecolor\":\"white\"},\"yaxis\":{\"backgroundcolor\":\"#E5ECF6\",\"gridcolor\":\"white\",\"gridwidth\":2,\"linecolor\":\"white\",\"showbackground\":true,\"ticks\":\"\",\"zerolinecolor\":\"white\"},\"zaxis\":{\"backgroundcolor\":\"#E5ECF6\",\"gridcolor\":\"white\",\"gridwidth\":2,\"linecolor\":\"white\",\"showbackground\":true,\"ticks\":\"\",\"zerolinecolor\":\"white\"}},\"shapedefaults\":{\"line\":{\"color\":\"#2a3f5f\"}},\"ternary\":{\"aaxis\":{\"gridcolor\":\"white\",\"linecolor\":\"white\",\"ticks\":\"\"},\"baxis\":{\"gridcolor\":\"white\",\"linecolor\":\"white\",\"ticks\":\"\"},\"bgcolor\":\"#E5ECF6\",\"caxis\":{\"gridcolor\":\"white\",\"linecolor\":\"white\",\"ticks\":\"\"}},\"title\":{\"x\":0.05},\"xaxis\":{\"automargin\":true,\"gridcolor\":\"white\",\"linecolor\":\"white\",\"ticks\":\"\",\"title\":{\"standoff\":15},\"zerolinecolor\":\"white\",\"zerolinewidth\":2},\"yaxis\":{\"automargin\":true,\"gridcolor\":\"white\",\"linecolor\":\"white\",\"ticks\":\"\",\"title\":{\"standoff\":15},\"zerolinecolor\":\"white\",\"zerolinewidth\":2}}}},                        {\"responsive\": true}                    ).then(function(){\n",
              "                            \n",
              "var gd = document.getElementById('b9bd162b-7c55-4835-bf86-67756d2ef007');\n",
              "var x = new MutationObserver(function (mutations, observer) {{\n",
              "        var display = window.getComputedStyle(gd).display;\n",
              "        if (!display || display === 'none') {{\n",
              "            console.log([gd, 'removed!']);\n",
              "            Plotly.purge(gd);\n",
              "            observer.disconnect();\n",
              "        }}\n",
              "}});\n",
              "\n",
              "// Listen for the removal of the full notebook cells\n",
              "var notebookContainer = gd.closest('#notebook-container');\n",
              "if (notebookContainer) {{\n",
              "    x.observe(notebookContainer, {childList: true});\n",
              "}}\n",
              "\n",
              "// Listen for the clearing of the current output cell\n",
              "var outputEl = gd.closest('.output');\n",
              "if (outputEl) {{\n",
              "    x.observe(outputEl, {childList: true});\n",
              "}}\n",
              "\n",
              "                        })                };                            </script>        </div>\n",
              "</body>\n",
              "</html>"
            ]
          },
          "metadata": {}
        }
      ]
    },
    {
      "cell_type": "code",
      "source": [],
      "metadata": {
        "id": "brSYCQ918XQD"
      },
      "execution_count": null,
      "outputs": []
    }
  ]
}